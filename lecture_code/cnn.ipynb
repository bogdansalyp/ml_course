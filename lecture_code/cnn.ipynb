{
 "cells": [
  {
   "cell_type": "code",
   "execution_count": 12,
   "metadata": {},
   "outputs": [],
   "source": [
    "# Import all modules\n",
    "import time\n",
    "import matplotlib.pyplot as plt\n",
    "import numpy as np\n",
    "from keras.models import Sequential\n",
    "from keras.layers import Dense, Dropout, Flatten\n",
    "from keras.constraints import maxnorm\n",
    "from keras.optimizers import SGD\n",
    "from keras.layers import Activation\n",
    "from keras.layers.convolutional import Conv2D\n",
    "from keras.layers.convolutional import MaxPooling2D\n",
    "from keras.layers.normalization import BatchNormalization\n",
    "from keras.utils import np_utils\n",
    "from keras import backend as K\n",
    "if K.backend()=='tensorflow':\n",
    "    K.set_image_dim_ordering(\"th\")\n",
    "\n",
    "# Import Tensorflow with multiprocessing\n",
    "import tensorflow as tf\n",
    "import multiprocessing as mp\n",
    "\n",
    "# Loading the CIFAR-10 datasets\n",
    "from keras.datasets import cifar10"
   ]
  },
  {
   "cell_type": "code",
   "execution_count": 13,
   "metadata": {},
   "outputs": [],
   "source": [
    "# Declare variables\n",
    "\n",
    "batch_size = 32 \n",
    "# 32 examples in a mini-batch, smaller batch size means more updates in one epoch\n",
    "\n",
    "num_classes = 10 #\n",
    "epochs = 100 # repeat 100 times"
   ]
  },
  {
   "cell_type": "code",
   "execution_count": 14,
   "metadata": {},
   "outputs": [],
   "source": [
    "(x_train, y_train), (x_test, y_test) = cifar10.load_data() \n",
    "# x_train - training data(images), y_train - labels(digits)"
   ]
  },
  {
   "cell_type": "code",
   "execution_count": 16,
   "metadata": {},
   "outputs": [],
   "source": [
    "# Convert and pre-processing\n",
    "\n",
    "y_train = np_utils.to_categorical(y_train, num_classes)\n",
    "y_test = np_utils.to_categorical(y_test, num_classes)\n",
    "x_train = x_train.astype('float32')\n",
    "x_test = x_test.astype('float32')\n",
    "x_train  /= 255\n",
    "x_test /= 255"
   ]
  },
  {
   "cell_type": "code",
   "execution_count": 17,
   "metadata": {},
   "outputs": [
    {
     "data": {
      "text/plain": [
       "(50000, 3, 32, 32)"
      ]
     },
     "execution_count": 17,
     "metadata": {},
     "output_type": "execute_result"
    }
   ],
   "source": [
    "x_train.shape"
   ]
  },
  {
   "cell_type": "code",
   "execution_count": null,
   "metadata": {
    "scrolled": true
   },
   "outputs": [
    {
     "name": "stdout",
     "output_type": "stream",
     "text": [
      "_________________________________________________________________\n",
      "Layer (type)                 Output Shape              Param #   \n",
      "=================================================================\n",
      "conv2d_5 (Conv2D)            (None, 32, 32, 32)        896       \n",
      "_________________________________________________________________\n",
      "activation_9 (Activation)    (None, 32, 32, 32)        0         \n",
      "_________________________________________________________________\n",
      "conv2d_6 (Conv2D)            (None, 32, 30, 30)        9248      \n",
      "_________________________________________________________________\n",
      "activation_10 (Activation)   (None, 32, 30, 30)        0         \n",
      "_________________________________________________________________\n",
      "max_pooling2d_3 (MaxPooling2 (None, 32, 15, 15)        0         \n",
      "_________________________________________________________________\n",
      "dropout_5 (Dropout)          (None, 32, 15, 15)        0         \n",
      "_________________________________________________________________\n",
      "conv2d_7 (Conv2D)            (None, 32, 15, 15)        9248      \n",
      "_________________________________________________________________\n",
      "activation_11 (Activation)   (None, 32, 15, 15)        0         \n",
      "_________________________________________________________________\n",
      "conv2d_8 (Conv2D)            (None, 32, 13, 13)        9248      \n",
      "_________________________________________________________________\n",
      "activation_12 (Activation)   (None, 32, 13, 13)        0         \n",
      "_________________________________________________________________\n",
      "max_pooling2d_4 (MaxPooling2 (None, 32, 6, 6)          0         \n",
      "_________________________________________________________________\n",
      "dropout_6 (Dropout)          (None, 32, 6, 6)          0         \n",
      "_________________________________________________________________\n",
      "flatten_3 (Flatten)          (None, 1152)              0         \n",
      "_________________________________________________________________\n",
      "dense_5 (Dense)              (None, 512)               590336    \n",
      "_________________________________________________________________\n",
      "activation_13 (Activation)   (None, 512)               0         \n",
      "_________________________________________________________________\n",
      "dropout_7 (Dropout)          (None, 512)               0         \n",
      "_________________________________________________________________\n",
      "dense_6 (Dense)              (None, 10)                5130      \n",
      "_________________________________________________________________\n",
      "activation_14 (Activation)   (None, 10)                0         \n",
      "=================================================================\n",
      "Total params: 624,106\n",
      "Trainable params: 624,106\n",
      "Non-trainable params: 0\n",
      "_________________________________________________________________\n",
      "Train on 50000 samples, validate on 10000 samples\n",
      "Epoch 1/100\n",
      "50000/50000 [==============================] - 376s 8ms/step - loss: 1.5435 - acc: 0.4402 - val_loss: 1.1899 - val_acc: 0.5667\n",
      "Epoch 2/100\n",
      "50000/50000 [==============================] - 359s 7ms/step - loss: 1.1824 - acc: 0.5796 - val_loss: 1.0050 - val_acc: 0.6440\n",
      "Epoch 3/100\n",
      "50000/50000 [==============================] - 340s 7ms/step - loss: 1.0534 - acc: 0.6275 - val_loss: 0.9231 - val_acc: 0.6784\n",
      "Epoch 4/100\n",
      "50000/50000 [==============================] - 338s 7ms/step - loss: 0.9732 - acc: 0.6581 - val_loss: 0.8620 - val_acc: 0.7000\n",
      "Epoch 5/100\n",
      "50000/50000 [==============================] - 337s 7ms/step - loss: 0.9190 - acc: 0.6771 - val_loss: 0.8278 - val_acc: 0.7103\n",
      "Epoch 6/100\n",
      "50000/50000 [==============================] - 337s 7ms/step - loss: 0.8737 - acc: 0.6921 - val_loss: 0.7883 - val_acc: 0.7230\n",
      "Epoch 7/100\n",
      "50000/50000 [==============================] - 347s 7ms/step - loss: 0.8408 - acc: 0.7053 - val_loss: 0.7855 - val_acc: 0.7263\n",
      "Epoch 8/100\n",
      "50000/50000 [==============================] - 334s 7ms/step - loss: 0.8057 - acc: 0.7176 - val_loss: 0.7471 - val_acc: 0.7423\n",
      "Epoch 9/100\n",
      "50000/50000 [==============================] - 340s 7ms/step - loss: 0.7793 - acc: 0.7258 - val_loss: 0.7535 - val_acc: 0.7402\n",
      "Epoch 10/100\n",
      "50000/50000 [==============================] - 337s 7ms/step - loss: 0.7469 - acc: 0.7372 - val_loss: 0.7379 - val_acc: 0.7462\n",
      "Epoch 11/100\n",
      "50000/50000 [==============================] - 338s 7ms/step - loss: 0.7378 - acc: 0.7424 - val_loss: 0.7298 - val_acc: 0.7486\n",
      "Epoch 12/100\n",
      "50000/50000 [==============================] - 341s 7ms/step - loss: 0.7218 - acc: 0.7457 - val_loss: 0.7191 - val_acc: 0.7551\n",
      "Epoch 13/100\n",
      "50000/50000 [==============================] - 336s 7ms/step - loss: 0.6977 - acc: 0.7558 - val_loss: 0.6961 - val_acc: 0.7648\n",
      "Epoch 14/100\n",
      "50000/50000 [==============================] - 346s 7ms/step - loss: 0.6897 - acc: 0.7585 - val_loss: 0.7207 - val_acc: 0.7505\n",
      "Epoch 15/100\n",
      "50000/50000 [==============================] - 335s 7ms/step - loss: 0.6769 - acc: 0.7611 - val_loss: 0.7042 - val_acc: 0.7610\n",
      "Epoch 16/100\n",
      "50000/50000 [==============================] - 337s 7ms/step - loss: 0.6612 - acc: 0.7673 - val_loss: 0.6851 - val_acc: 0.7667\n",
      "Epoch 17/100\n",
      "50000/50000 [==============================] - 339s 7ms/step - loss: 0.6468 - acc: 0.7706 - val_loss: 0.6926 - val_acc: 0.7607\n",
      "Epoch 18/100\n",
      "19584/50000 [==========>...................] - ETA: 1:29:21 - loss: 0.6242 - acc: 0.7797"
     ]
    }
   ],
   "source": [
    "model = Sequential()\n",
    "model.add(Conv2D(32, (3, 3), padding='same', input_shape=x_train.shape[1:]))\n",
    "model.add(Activation('relu'))\n",
    "model.add(Conv2D(32,(3, 3)))\n",
    "model.add(Activation('relu'))\n",
    "model.add(MaxPooling2D(pool_size=(2, 2)))\n",
    "model.add(Dropout(0.25))\n",
    "\n",
    "model.add(Conv2D(32, (3, 3), padding='same'))\n",
    "model.add(Activation('relu'))\n",
    "model.add(Conv2D(32,(3, 3)))\n",
    "model.add(Activation('relu'))\n",
    "model.add(MaxPooling2D(pool_size=(2, 2)))\n",
    "model.add(Dropout(0.25))\n",
    "\n",
    "model.add(Flatten())\n",
    "model.add(Dense(512))\n",
    "model.add(Activation('relu'))\n",
    "model.add(Dropout(0.5))\n",
    "model.add(Dense(num_classes))\n",
    "model.add(Activation('softmax'))\n",
    "\n",
    "model.compile(loss='categorical_crossentropy', optimizer='adam', metrics=['accuracy'])\n",
    "\n",
    "model.summary()\n",
    "\n",
    "# Fit model\n",
    "\n",
    "model.fit(x_train, y_train, batch_size=batch_size, epochs=epochs, validation_data=(x_test,y_test),shuffle=True)"
   ]
  },
  {
   "cell_type": "code",
   "execution_count": null,
   "metadata": {},
   "outputs": [],
   "source": []
  },
  {
   "cell_type": "code",
   "execution_count": null,
   "metadata": {},
   "outputs": [],
   "source": []
  },
  {
   "cell_type": "code",
   "execution_count": null,
   "metadata": {},
   "outputs": [],
   "source": []
  }
 ],
 "metadata": {
  "kernelspec": {
   "display_name": "Python 3",
   "language": "python",
   "name": "python3"
  },
  "language_info": {
   "codemirror_mode": {
    "name": "ipython",
    "version": 3
   },
   "file_extension": ".py",
   "mimetype": "text/x-python",
   "name": "python",
   "nbconvert_exporter": "python",
   "pygments_lexer": "ipython3",
   "version": "3.6.5"
  }
 },
 "nbformat": 4,
 "nbformat_minor": 2
}
