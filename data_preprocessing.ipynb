{
 "cells": [
  {
   "cell_type": "markdown",
   "metadata": {},
   "source": [
    "# Предобработка данных"
   ]
  },
  {
   "cell_type": "code",
   "execution_count": 49,
   "metadata": {},
   "outputs": [],
   "source": [
    "import numpy as np\n",
    "import pandas as pd\n",
    "import matplotlib.pyplot as plt\n",
    "import os"
   ]
  },
  {
   "cell_type": "code",
   "execution_count": 50,
   "metadata": {},
   "outputs": [],
   "source": [
    "DATA_DIR = \"data\" # путь к данным"
   ]
  },
  {
   "cell_type": "markdown",
   "metadata": {},
   "source": [
    "## Missing data (отсутствующие данные)"
   ]
  },
  {
   "cell_type": "code",
   "execution_count": 51,
   "metadata": {},
   "outputs": [],
   "source": [
    "df_avito = pd.read_csv(os.path.join(DATA_DIR, 'avito.csv'))"
   ]
  },
  {
   "cell_type": "markdown",
   "metadata": {},
   "source": [
    "В датасете находятся **NaN** - \"**Not a Number**\""
   ]
  },
  {
   "cell_type": "code",
   "execution_count": 52,
   "metadata": {},
   "outputs": [
    {
     "data": {
      "text/html": [
       "<div>\n",
       "<style scoped>\n",
       "    .dataframe tbody tr th:only-of-type {\n",
       "        vertical-align: middle;\n",
       "    }\n",
       "\n",
       "    .dataframe tbody tr th {\n",
       "        vertical-align: top;\n",
       "    }\n",
       "\n",
       "    .dataframe thead th {\n",
       "        text-align: right;\n",
       "    }\n",
       "</style>\n",
       "<table border=\"1\" class=\"dataframe\">\n",
       "  <thead>\n",
       "    <tr style=\"text-align: right;\">\n",
       "      <th></th>\n",
       "      <th>item_id</th>\n",
       "      <th>user_id</th>\n",
       "      <th>region</th>\n",
       "      <th>city</th>\n",
       "      <th>parent_category_name</th>\n",
       "      <th>category_name</th>\n",
       "      <th>param_1</th>\n",
       "      <th>param_2</th>\n",
       "      <th>param_3</th>\n",
       "      <th>title</th>\n",
       "      <th>description</th>\n",
       "      <th>price</th>\n",
       "      <th>item_seq_number</th>\n",
       "      <th>activation_date</th>\n",
       "      <th>user_type</th>\n",
       "      <th>image</th>\n",
       "      <th>image_top_1</th>\n",
       "      <th>deal_probability</th>\n",
       "    </tr>\n",
       "  </thead>\n",
       "  <tbody>\n",
       "    <tr>\n",
       "      <th>995</th>\n",
       "      <td>401d5fa8e55d</td>\n",
       "      <td>b5fe6a389cc4</td>\n",
       "      <td>Ярославская область</td>\n",
       "      <td>Ярославль</td>\n",
       "      <td>Хобби и отдых</td>\n",
       "      <td>Спорт и отдых</td>\n",
       "      <td>Игры с мячом</td>\n",
       "      <td>NaN</td>\n",
       "      <td>NaN</td>\n",
       "      <td>Продам бутсы Adidas</td>\n",
       "      <td>продам бутсы в отличном состоянии.отыграл 3 тр...</td>\n",
       "      <td>NaN</td>\n",
       "      <td>27</td>\n",
       "      <td>2017-03-27</td>\n",
       "      <td>Private</td>\n",
       "      <td>7c640fb4b6b4066c54e082193b66bedaedfee5e4d12975...</td>\n",
       "      <td>640.0</td>\n",
       "      <td>0.00000</td>\n",
       "    </tr>\n",
       "    <tr>\n",
       "      <th>996</th>\n",
       "      <td>4b136de2c16a</td>\n",
       "      <td>f57df929a284</td>\n",
       "      <td>Воронежская область</td>\n",
       "      <td>Воронеж</td>\n",
       "      <td>Бытовая электроника</td>\n",
       "      <td>Игры, приставки и программы</td>\n",
       "      <td>Игры для приставок</td>\n",
       "      <td>NaN</td>\n",
       "      <td>NaN</td>\n",
       "      <td>Продам диск lara croft на psp</td>\n",
       "      <td>NaN</td>\n",
       "      <td>350.0</td>\n",
       "      <td>142</td>\n",
       "      <td>2017-03-27</td>\n",
       "      <td>Company</td>\n",
       "      <td>0a7686a2e05ca2dc0470e550f1f03b1eddee7919d363ca...</td>\n",
       "      <td>2888.0</td>\n",
       "      <td>0.00000</td>\n",
       "    </tr>\n",
       "    <tr>\n",
       "      <th>997</th>\n",
       "      <td>a65090f39f50</td>\n",
       "      <td>8673d0037023</td>\n",
       "      <td>Свердловская область</td>\n",
       "      <td>Монетный</td>\n",
       "      <td>Недвижимость</td>\n",
       "      <td>Дома, дачи, коттеджи</td>\n",
       "      <td>Продам</td>\n",
       "      <td>Коттедж</td>\n",
       "      <td>NaN</td>\n",
       "      <td>Коттедж 150 м² на участке 12 сот.</td>\n",
       "      <td>Продается чудесный коттедж в экологически чист...</td>\n",
       "      <td>5900000.0</td>\n",
       "      <td>5830</td>\n",
       "      <td>2017-03-18</td>\n",
       "      <td>Shop</td>\n",
       "      <td>9061df217dd8f2b338e2645d52b09af6143677d011002a...</td>\n",
       "      <td>1376.0</td>\n",
       "      <td>0.07725</td>\n",
       "    </tr>\n",
       "    <tr>\n",
       "      <th>998</th>\n",
       "      <td>53e0aa75cecd</td>\n",
       "      <td>fbfe3f73586d</td>\n",
       "      <td>Башкортостан</td>\n",
       "      <td>Ишимбай</td>\n",
       "      <td>Транспорт</td>\n",
       "      <td>Автомобили</td>\n",
       "      <td>С пробегом</td>\n",
       "      <td>Hyundai</td>\n",
       "      <td>i30</td>\n",
       "      <td>Hyundai i30, 2012</td>\n",
       "      <td>Продается автомобиль  Hyundai i30. Был куплен ...</td>\n",
       "      <td>550000.0</td>\n",
       "      <td>1</td>\n",
       "      <td>2017-03-20</td>\n",
       "      <td>Private</td>\n",
       "      <td>c7fe551884576cb8b1bb9bbfe216b3e0b437d6b2208deb...</td>\n",
       "      <td>1118.0</td>\n",
       "      <td>0.10521</td>\n",
       "    </tr>\n",
       "    <tr>\n",
       "      <th>999</th>\n",
       "      <td>211a7d242f97</td>\n",
       "      <td>b3e017bd61eb</td>\n",
       "      <td>Самарская область</td>\n",
       "      <td>Самара</td>\n",
       "      <td>Для дома и дачи</td>\n",
       "      <td>Ремонт и строительство</td>\n",
       "      <td>Окна и балконы</td>\n",
       "      <td>NaN</td>\n",
       "      <td>NaN</td>\n",
       "      <td>Породам окно</td>\n",
       "      <td>Глухое 1кам32 с.пакет, ш650в1440. Новое не под...</td>\n",
       "      <td>2000.0</td>\n",
       "      <td>32</td>\n",
       "      <td>2017-03-24</td>\n",
       "      <td>Private</td>\n",
       "      <td>a68483a58dfbf3b7abf95dfe623651aa45dc211dbb2992...</td>\n",
       "      <td>1405.0</td>\n",
       "      <td>0.00000</td>\n",
       "    </tr>\n",
       "  </tbody>\n",
       "</table>\n",
       "</div>"
      ],
      "text/plain": [
       "          item_id       user_id                region       city  \\\n",
       "995  401d5fa8e55d  b5fe6a389cc4   Ярославская область  Ярославль   \n",
       "996  4b136de2c16a  f57df929a284   Воронежская область    Воронеж   \n",
       "997  a65090f39f50  8673d0037023  Свердловская область   Монетный   \n",
       "998  53e0aa75cecd  fbfe3f73586d          Башкортостан    Ишимбай   \n",
       "999  211a7d242f97  b3e017bd61eb     Самарская область     Самара   \n",
       "\n",
       "    parent_category_name                category_name             param_1  \\\n",
       "995        Хобби и отдых                Спорт и отдых        Игры с мячом   \n",
       "996  Бытовая электроника  Игры, приставки и программы  Игры для приставок   \n",
       "997         Недвижимость         Дома, дачи, коттеджи              Продам   \n",
       "998            Транспорт                   Автомобили          С пробегом   \n",
       "999      Для дома и дачи       Ремонт и строительство      Окна и балконы   \n",
       "\n",
       "     param_2 param_3                              title  \\\n",
       "995      NaN     NaN                Продам бутсы Adidas   \n",
       "996      NaN     NaN      Продам диск lara croft на psp   \n",
       "997  Коттедж     NaN  Коттедж 150 м² на участке 12 сот.   \n",
       "998  Hyundai     i30                  Hyundai i30, 2012   \n",
       "999      NaN     NaN                       Породам окно   \n",
       "\n",
       "                                           description      price  \\\n",
       "995  продам бутсы в отличном состоянии.отыграл 3 тр...        NaN   \n",
       "996                                                NaN      350.0   \n",
       "997  Продается чудесный коттедж в экологически чист...  5900000.0   \n",
       "998  Продается автомобиль  Hyundai i30. Был куплен ...   550000.0   \n",
       "999  Глухое 1кам32 с.пакет, ш650в1440. Новое не под...     2000.0   \n",
       "\n",
       "     item_seq_number activation_date user_type  \\\n",
       "995               27      2017-03-27   Private   \n",
       "996              142      2017-03-27   Company   \n",
       "997             5830      2017-03-18      Shop   \n",
       "998                1      2017-03-20   Private   \n",
       "999               32      2017-03-24   Private   \n",
       "\n",
       "                                                 image  image_top_1  \\\n",
       "995  7c640fb4b6b4066c54e082193b66bedaedfee5e4d12975...        640.0   \n",
       "996  0a7686a2e05ca2dc0470e550f1f03b1eddee7919d363ca...       2888.0   \n",
       "997  9061df217dd8f2b338e2645d52b09af6143677d011002a...       1376.0   \n",
       "998  c7fe551884576cb8b1bb9bbfe216b3e0b437d6b2208deb...       1118.0   \n",
       "999  a68483a58dfbf3b7abf95dfe623651aa45dc211dbb2992...       1405.0   \n",
       "\n",
       "     deal_probability  \n",
       "995           0.00000  \n",
       "996           0.00000  \n",
       "997           0.07725  \n",
       "998           0.10521  \n",
       "999           0.00000  "
      ]
     },
     "execution_count": 52,
     "metadata": {},
     "output_type": "execute_result"
    }
   ],
   "source": [
    "df_avito.tail()"
   ]
  },
  {
   "cell_type": "code",
   "execution_count": 53,
   "metadata": {},
   "outputs": [
    {
     "data": {
      "text/plain": [
       "nan"
      ]
     },
     "execution_count": 53,
     "metadata": {},
     "output_type": "execute_result"
    }
   ],
   "source": [
    "df_avito['price'].iloc[995]"
   ]
  },
  {
   "cell_type": "markdown",
   "metadata": {},
   "source": [
    "Что если выбрать все экземпляры, где price != np.nan?"
   ]
  },
  {
   "cell_type": "code",
   "execution_count": 54,
   "metadata": {},
   "outputs": [],
   "source": [
    "items_with_price = df_avito[df_avito['price'] != np.nan]"
   ]
  },
  {
   "cell_type": "markdown",
   "metadata": {},
   "source": [
    "Нет, это не работает - количество экземпляров осталось прежним"
   ]
  },
  {
   "cell_type": "code",
   "execution_count": 55,
   "metadata": {},
   "outputs": [
    {
     "name": "stdout",
     "output_type": "stream",
     "text": [
      "df_avito.shape: (1000, 18)\n",
      "items_with_price.shape: (1000, 18)\n"
     ]
    }
   ],
   "source": [
    "print(\"df_avito.shape: {}\".format(df_avito.shape))\n",
    "print(\"items_with_price.shape: {}\".format(items_with_price.shape))"
   ]
  },
  {
   "cell_type": "markdown",
   "metadata": {},
   "source": [
    "Магия NaN:"
   ]
  },
  {
   "cell_type": "code",
   "execution_count": 56,
   "metadata": {},
   "outputs": [
    {
     "name": "stdout",
     "output_type": "stream",
     "text": [
      "np.nan == np.nan: False\n",
      "np.nan != np.nan: True\n"
     ]
    }
   ],
   "source": [
    "print(\"np.nan == np.nan: {}\".format(np.nan == np.nan))\n",
    "print(\"np.nan != np.nan: {}\".format(np.nan != np.nan))"
   ]
  },
  {
   "cell_type": "code",
   "execution_count": 57,
   "metadata": {},
   "outputs": [
    {
     "data": {
      "text/plain": [
       "0      False\n",
       "1      False\n",
       "2      False\n",
       "3      False\n",
       "4      False\n",
       "5      False\n",
       "6      False\n",
       "7      False\n",
       "8      False\n",
       "9      False\n",
       "10     False\n",
       "11     False\n",
       "12     False\n",
       "13     False\n",
       "14     False\n",
       "15     False\n",
       "16     False\n",
       "17     False\n",
       "18     False\n",
       "19     False\n",
       "20     False\n",
       "21     False\n",
       "22     False\n",
       "23     False\n",
       "24      True\n",
       "25     False\n",
       "26     False\n",
       "27     False\n",
       "28     False\n",
       "29     False\n",
       "       ...  \n",
       "970    False\n",
       "971    False\n",
       "972    False\n",
       "973    False\n",
       "974    False\n",
       "975    False\n",
       "976    False\n",
       "977    False\n",
       "978    False\n",
       "979     True\n",
       "980    False\n",
       "981    False\n",
       "982    False\n",
       "983    False\n",
       "984    False\n",
       "985     True\n",
       "986    False\n",
       "987    False\n",
       "988    False\n",
       "989    False\n",
       "990    False\n",
       "991    False\n",
       "992    False\n",
       "993    False\n",
       "994     True\n",
       "995     True\n",
       "996    False\n",
       "997    False\n",
       "998    False\n",
       "999    False\n",
       "Name: price, Length: 1000, dtype: bool"
      ]
     },
     "execution_count": 57,
     "metadata": {},
     "output_type": "execute_result"
    }
   ],
   "source": [
    "df_avito['price'].isna() # True при NaN, False при наличии значения"
   ]
  },
  {
   "cell_type": "code",
   "execution_count": 58,
   "metadata": {},
   "outputs": [
    {
     "data": {
      "text/plain": [
       "65"
      ]
     },
     "execution_count": 58,
     "metadata": {},
     "output_type": "execute_result"
    }
   ],
   "source": [
    "np.sum(df_avito['price'].isna()) # подсчёт всех nan в колонке price"
   ]
  },
  {
   "cell_type": "code",
   "execution_count": 59,
   "metadata": {},
   "outputs": [
    {
     "data": {
      "text/plain": [
       "0       True\n",
       "1       True\n",
       "2       True\n",
       "3       True\n",
       "4       True\n",
       "5       True\n",
       "6       True\n",
       "7       True\n",
       "8       True\n",
       "9       True\n",
       "10      True\n",
       "11      True\n",
       "12      True\n",
       "13      True\n",
       "14      True\n",
       "15      True\n",
       "16      True\n",
       "17      True\n",
       "18      True\n",
       "19      True\n",
       "20      True\n",
       "21      True\n",
       "22      True\n",
       "23      True\n",
       "24     False\n",
       "25      True\n",
       "26      True\n",
       "27      True\n",
       "28      True\n",
       "29      True\n",
       "       ...  \n",
       "970     True\n",
       "971     True\n",
       "972     True\n",
       "973     True\n",
       "974     True\n",
       "975     True\n",
       "976     True\n",
       "977     True\n",
       "978     True\n",
       "979    False\n",
       "980     True\n",
       "981     True\n",
       "982     True\n",
       "983     True\n",
       "984     True\n",
       "985    False\n",
       "986     True\n",
       "987     True\n",
       "988     True\n",
       "989     True\n",
       "990     True\n",
       "991     True\n",
       "992     True\n",
       "993     True\n",
       "994    False\n",
       "995    False\n",
       "996     True\n",
       "997     True\n",
       "998     True\n",
       "999     True\n",
       "Name: price, Length: 1000, dtype: bool"
      ]
     },
     "execution_count": 59,
     "metadata": {},
     "output_type": "execute_result"
    }
   ],
   "source": [
    "df_avito['price'].notna() # обратная к isna() функция"
   ]
  },
  {
   "cell_type": "code",
   "execution_count": 60,
   "metadata": {},
   "outputs": [
    {
     "name": "stdout",
     "output_type": "stream",
     "text": [
      "df_without_nan.shape: (935, 18)\n"
     ]
    }
   ],
   "source": [
    "df_without_nan = df_avito.loc[df_avito['price'].notna()]\n",
    "print(\"df_without_nan.shape: {}\".format(df_without_nan.shape))"
   ]
  },
  {
   "cell_type": "code",
   "execution_count": 61,
   "metadata": {},
   "outputs": [
    {
     "data": {
      "text/plain": [
       "item_id                   0\n",
       "user_id                   0\n",
       "region                    0\n",
       "city                      0\n",
       "parent_category_name      0\n",
       "category_name             0\n",
       "param_1                  44\n",
       "param_2                 447\n",
       "param_3                 594\n",
       "title                     0\n",
       "description              67\n",
       "price                    65\n",
       "item_seq_number           0\n",
       "activation_date           0\n",
       "user_type                 0\n",
       "image                    79\n",
       "image_top_1              79\n",
       "deal_probability          0\n",
       "dtype: int64"
      ]
     },
     "execution_count": 61,
     "metadata": {},
     "output_type": "execute_result"
    }
   ],
   "source": [
    "df_avito.isna().sum() # подсчёт всех NaN по колонкам"
   ]
  },
  {
   "cell_type": "code",
   "execution_count": 62,
   "metadata": {},
   "outputs": [
    {
     "data": {
      "text/plain": [
       "1375"
      ]
     },
     "execution_count": 62,
     "metadata": {},
     "output_type": "execute_result"
    }
   ],
   "source": [
    "df_avito.isna().sum().sum() # подсчёт всех NaN в датасете"
   ]
  },
  {
   "cell_type": "markdown",
   "metadata": {},
   "source": [
    "**NaN работает как вирус - любое арифметическое выражение с NaN равно NaN**"
   ]
  },
  {
   "cell_type": "code",
   "execution_count": 63,
   "metadata": {},
   "outputs": [
    {
     "name": "stdout",
     "output_type": "stream",
     "text": [
      "np.nan + 1 = nan\n",
      "np.nan - 1 = nan\n",
      "np.nan * 1 = nan\n",
      "np.nan / 1 = nan\n",
      "np.sum([np.nan, 1]) = nan\n",
      "arr.sum() = nan\n"
     ]
    }
   ],
   "source": [
    "print(\"np.nan + 1 = {}\".format(np.nan + 1))\n",
    "print(\"np.nan - 1 = {}\".format(np.nan - 1))\n",
    "print(\"np.nan * 1 = {}\".format(np.nan * 1))\n",
    "print(\"np.nan / 1 = {}\".format(np.nan / 1))\n",
    "print(\"np.sum([np.nan, 1]) = {}\".format(np.sum([np.nan, 1])))\n",
    "arr = np.array([np.nan, 1, 2, 3, np.nan])\n",
    "print(\"arr.sum() = {}\".format(arr.sum()))"
   ]
  },
  {
   "cell_type": "markdown",
   "metadata": {},
   "source": [
    "**Первый вариант - сброс рядов со значениями NaN**"
   ]
  },
  {
   "cell_type": "code",
   "execution_count": 64,
   "metadata": {},
   "outputs": [
    {
     "data": {
      "text/plain": [
       "0          400.0\n",
       "1         3000.0\n",
       "2         4000.0\n",
       "3         2200.0\n",
       "4        40000.0\n",
       "5         1300.0\n",
       "6        11000.0\n",
       "7          500.0\n",
       "8          500.0\n",
       "9          400.0\n",
       "10       18000.0\n",
       "11           1.0\n",
       "12          70.0\n",
       "13        2500.0\n",
       "14        5000.0\n",
       "15         800.0\n",
       "16      140000.0\n",
       "17         500.0\n",
       "18        1000.0\n",
       "19      100000.0\n",
       "20     1748000.0\n",
       "21        2600.0\n",
       "22      249000.0\n",
       "23        1300.0\n",
       "25        1500.0\n",
       "26        1000.0\n",
       "27        1500.0\n",
       "28        1000.0\n",
       "29         200.0\n",
       "31         130.0\n",
       "         ...    \n",
       "965        250.0\n",
       "966     189000.0\n",
       "967        800.0\n",
       "968        250.0\n",
       "970        500.0\n",
       "971       1580.0\n",
       "972       3000.0\n",
       "973        400.0\n",
       "974      11500.0\n",
       "975        500.0\n",
       "976    1600000.0\n",
       "977    1650000.0\n",
       "978     560000.0\n",
       "980        250.0\n",
       "981      10000.0\n",
       "982        250.0\n",
       "983       1000.0\n",
       "984        300.0\n",
       "986       4200.0\n",
       "987        200.0\n",
       "988        700.0\n",
       "989        150.0\n",
       "990      12000.0\n",
       "991          1.0\n",
       "992       2300.0\n",
       "993        650.0\n",
       "996        350.0\n",
       "997    5900000.0\n",
       "998     550000.0\n",
       "999       2000.0\n",
       "Name: price, Length: 935, dtype: float64"
      ]
     },
     "execution_count": 64,
     "metadata": {},
     "output_type": "execute_result"
    }
   ],
   "source": [
    "df_avito['price'].dropna() # сброс рядов со значениями NaN "
   ]
  },
  {
   "cell_type": "markdown",
   "metadata": {},
   "source": [
    "**Второй вариант - подставить среднее значение по колонке**"
   ]
  },
  {
   "cell_type": "markdown",
   "metadata": {},
   "source": [
    "Возможно ли посчитать среднее, не используя .mean()?"
   ]
  },
  {
   "cell_type": "code",
   "execution_count": 65,
   "metadata": {
    "scrolled": true
   },
   "outputs": [
    {
     "data": {
      "text/plain": [
       "269889239.0"
      ]
     },
     "execution_count": 65,
     "metadata": {},
     "output_type": "execute_result"
    }
   ],
   "source": [
    "df_avito['price'].sum()"
   ]
  },
  {
   "cell_type": "code",
   "execution_count": 66,
   "metadata": {},
   "outputs": [
    {
     "data": {
      "text/plain": [
       "nan"
      ]
     },
     "execution_count": 66,
     "metadata": {},
     "output_type": "execute_result"
    }
   ],
   "source": [
    "df_avito['price'].sum(skipna=False)"
   ]
  },
  {
   "cell_type": "markdown",
   "metadata": {},
   "source": [
    "**Среднее значение отличается при разных подходах, так как shape учитывает ряды с NaN (надо использовать функцию mean)**"
   ]
  },
  {
   "cell_type": "code",
   "execution_count": 67,
   "metadata": {},
   "outputs": [
    {
     "name": "stdout",
     "output_type": "stream",
     "text": [
      "df_avito['price'].sum() / df_avito.shape[0]): 269889.239\n",
      "df_avito['price'].mean(): 288651.592513369\n"
     ]
    }
   ],
   "source": [
    "print(\"df_avito['price'].sum() / df_avito.shape[0]): {}\".format(df_avito['price'].sum() / df_avito.shape[0]))\n",
    "print(\"df_avito['price'].mean(): {}\".format(df_avito['price'].mean()))"
   ]
  },
  {
   "cell_type": "code",
   "execution_count": 68,
   "metadata": {},
   "outputs": [
    {
     "data": {
      "text/plain": [
       "nan"
      ]
     },
     "execution_count": 68,
     "metadata": {},
     "output_type": "execute_result"
    }
   ],
   "source": [
    "df_avito['price'].mean(skipna=False)"
   ]
  },
  {
   "cell_type": "code",
   "execution_count": 69,
   "metadata": {},
   "outputs": [
    {
     "data": {
      "text/plain": [
       "0          400.0\n",
       "1         3000.0\n",
       "2         4000.0\n",
       "3         2200.0\n",
       "4        40000.0\n",
       "5         1300.0\n",
       "6        11000.0\n",
       "7          500.0\n",
       "8          500.0\n",
       "9          400.0\n",
       "10       18000.0\n",
       "11           1.0\n",
       "12          70.0\n",
       "13        2500.0\n",
       "14        5000.0\n",
       "15         800.0\n",
       "16      140000.0\n",
       "17         500.0\n",
       "18        1000.0\n",
       "19      100000.0\n",
       "20     1748000.0\n",
       "21        2600.0\n",
       "22      249000.0\n",
       "23        1300.0\n",
       "24           0.0\n",
       "25        1500.0\n",
       "26        1000.0\n",
       "27        1500.0\n",
       "28        1000.0\n",
       "29         200.0\n",
       "         ...    \n",
       "970        500.0\n",
       "971       1580.0\n",
       "972       3000.0\n",
       "973        400.0\n",
       "974      11500.0\n",
       "975        500.0\n",
       "976    1600000.0\n",
       "977    1650000.0\n",
       "978     560000.0\n",
       "979          0.0\n",
       "980        250.0\n",
       "981      10000.0\n",
       "982        250.0\n",
       "983       1000.0\n",
       "984        300.0\n",
       "985          0.0\n",
       "986       4200.0\n",
       "987        200.0\n",
       "988        700.0\n",
       "989        150.0\n",
       "990      12000.0\n",
       "991          1.0\n",
       "992       2300.0\n",
       "993        650.0\n",
       "994          0.0\n",
       "995          0.0\n",
       "996        350.0\n",
       "997    5900000.0\n",
       "998     550000.0\n",
       "999       2000.0\n",
       "Name: price, Length: 1000, dtype: float64"
      ]
     },
     "execution_count": 69,
     "metadata": {},
     "output_type": "execute_result"
    }
   ],
   "source": [
    "df_avito['price'].fillna(0) # заполнение NaN значением"
   ]
  },
  {
   "cell_type": "code",
   "execution_count": 70,
   "metadata": {},
   "outputs": [],
   "source": [
    "df_avito['price'] = df_avito['price'].fillna(df_avito['price'].mean())"
   ]
  },
  {
   "cell_type": "markdown",
   "metadata": {},
   "source": [
    "**Заполнение NaN для датасета с временным индексом**"
   ]
  },
  {
   "cell_type": "code",
   "execution_count": 71,
   "metadata": {},
   "outputs": [
    {
     "data": {
      "text/plain": [
       "2000-01-31    0.469112\n",
       "2000-02-29         NaN\n",
       "2002-07-31   -5.689738\n",
       "2005-01-31         NaN\n",
       "2008-04-30   -8.916232\n",
       "dtype: float64"
      ]
     },
     "execution_count": 71,
     "metadata": {},
     "output_type": "execute_result"
    }
   ],
   "source": [
    "arr_ts = [\n",
    "    0.469112,\n",
    "    np.nan,\n",
    "    -5.689738,\n",
    "    np.nan,\n",
    "    -8.916232\n",
    "]\n",
    "dates = [\n",
    "    pd.Timestamp('2000-01-31'),\n",
    "    pd.Timestamp('2000-02-29'),\n",
    "    pd.Timestamp('2002-07-31'),\n",
    "    pd.Timestamp('2005-01-31'),\n",
    "    pd.Timestamp('2008-04-30')\n",
    "]\n",
    "\n",
    "ts = pd.Series(arr_ts, index=dates)\n",
    "ts"
   ]
  },
  {
   "cell_type": "code",
   "execution_count": 72,
   "metadata": {},
   "outputs": [
    {
     "data": {
      "text/plain": [
       "2000-01-31    0.469112\n",
       "2000-02-29   -2.610313\n",
       "2002-07-31   -5.689738\n",
       "2005-01-31   -7.302985\n",
       "2008-04-30   -8.916232\n",
       "dtype: float64"
      ]
     },
     "execution_count": 72,
     "metadata": {},
     "output_type": "execute_result"
    }
   ],
   "source": [
    "ts.interpolate()"
   ]
  },
  {
   "cell_type": "code",
   "execution_count": 73,
   "metadata": {},
   "outputs": [
    {
     "data": {
      "text/plain": [
       "2000-01-31    0.469112\n",
       "2000-02-29    0.273271\n",
       "2002-07-31   -5.689738\n",
       "2005-01-31   -7.095568\n",
       "2008-04-30   -8.916232\n",
       "dtype: float64"
      ]
     },
     "execution_count": 73,
     "metadata": {},
     "output_type": "execute_result"
    }
   ],
   "source": [
    "ts.interpolate(method='time')"
   ]
  },
  {
   "cell_type": "markdown",
   "metadata": {},
   "source": [
    "## Standardization (стандартизация)"
   ]
  },
  {
   "cell_type": "markdown",
   "metadata": {},
   "source": [
    "Данные о квартирах - площадь и цена"
   ]
  },
  {
   "cell_type": "code",
   "execution_count": 109,
   "metadata": {},
   "outputs": [
    {
     "name": "stdout",
     "output_type": "stream",
     "text": [
      "df_apts.shape: (175, 2)\n"
     ]
    },
    {
     "data": {
      "text/html": [
       "<div>\n",
       "<style scoped>\n",
       "    .dataframe tbody tr th:only-of-type {\n",
       "        vertical-align: middle;\n",
       "    }\n",
       "\n",
       "    .dataframe tbody tr th {\n",
       "        vertical-align: top;\n",
       "    }\n",
       "\n",
       "    .dataframe thead th {\n",
       "        text-align: right;\n",
       "    }\n",
       "</style>\n",
       "<table border=\"1\" class=\"dataframe\">\n",
       "  <thead>\n",
       "    <tr style=\"text-align: right;\">\n",
       "      <th></th>\n",
       "      <th>X1</th>\n",
       "      <th>X2</th>\n",
       "    </tr>\n",
       "  </thead>\n",
       "  <tbody>\n",
       "    <tr>\n",
       "      <th>0</th>\n",
       "      <td>57.565811</td>\n",
       "      <td>4.458676e+06</td>\n",
       "    </tr>\n",
       "    <tr>\n",
       "      <th>1</th>\n",
       "      <td>38.980196</td>\n",
       "      <td>1.996861e+06</td>\n",
       "    </tr>\n",
       "    <tr>\n",
       "      <th>2</th>\n",
       "      <td>47.248367</td>\n",
       "      <td>3.803824e+06</td>\n",
       "    </tr>\n",
       "    <tr>\n",
       "      <th>3</th>\n",
       "      <td>50.910823</td>\n",
       "      <td>3.435008e+06</td>\n",
       "    </tr>\n",
       "    <tr>\n",
       "      <th>4</th>\n",
       "      <td>67.741659</td>\n",
       "      <td>4.431305e+06</td>\n",
       "    </tr>\n",
       "  </tbody>\n",
       "</table>\n",
       "</div>"
      ],
      "text/plain": [
       "          X1            X2\n",
       "0  57.565811  4.458676e+06\n",
       "1  38.980196  1.996861e+06\n",
       "2  47.248367  3.803824e+06\n",
       "3  50.910823  3.435008e+06\n",
       "4  67.741659  4.431305e+06"
      ]
     },
     "execution_count": 109,
     "metadata": {},
     "output_type": "execute_result"
    }
   ],
   "source": [
    "df_apts = pd.read_csv(os.path.join(DATA_DIR, 'apt_prices.csv'))\n",
    "print(\"df_apts.shape: {}\".format(df_apts.shape))\n",
    "df_apts.head()"
   ]
  },
  {
   "cell_type": "code",
   "execution_count": 110,
   "metadata": {},
   "outputs": [
    {
     "data": {
      "image/png": "[encoded data removed]",
      "text/plain": [
       "<Figure size 432x288 with 1 Axes>"
      ]
     },
     "metadata": {},
     "output_type": "display_data"
    }
   ],
   "source": [
    "plt.plot(df_apts['X1'], df_apts['X2'], 'o')\n",
    "plt.xlabel('Area')\n",
    "plt.ylabel('Price')\n",
    "plt.show()"
   ]
  },
  {
   "cell_type": "code",
   "execution_count": 114,
   "metadata": {},
   "outputs": [
    {
     "data": {
      "image/png": "[encoded data removed]",
      "text/plain": [
       "<Figure size 432x288 with 1 Axes>"
      ]
     },
     "metadata": {},
     "output_type": "display_data"
    }
   ],
   "source": [
    "df_apts['X1'].hist()\n",
    "plt.title(\"Area histogram\")\n",
    "plt.show()"
   ]
  },
  {
   "cell_type": "code",
   "execution_count": 115,
   "metadata": {},
   "outputs": [
    {
     "data": {
      "image/png": "[encoded data removed]",
      "text/plain": [
       "<Figure size 432x288 with 1 Axes>"
      ]
     },
     "metadata": {},
     "output_type": "display_data"
    }
   ],
   "source": [
    "df_apts['X2'].hist()\n",
    "plt.title(\"Price histogram\")\n",
    "plt.show()"
   ]
  },
  {
   "cell_type": "markdown",
   "metadata": {},
   "source": [
    "**Если построить две гистограммы вместе, виден разброс амплитуд**"
   ]
  },
  {
   "cell_type": "code",
   "execution_count": 116,
   "metadata": {},
   "outputs": [
    {
     "data": {
      "text/plain": [
       "<matplotlib.axes._subplots.AxesSubplot at 0x11271e630>"
      ]
     },
     "execution_count": 116,
     "metadata": {},
     "output_type": "execute_result"
    },
    {
     "data": {
      "image/png": "[encoded data removed]",
      "text/plain": [
       "<Figure size 432x288 with 1 Axes>"
      ]
     },
     "metadata": {},
     "output_type": "display_data"
    }
   ],
   "source": [
    "df_apts.plot.hist()"
   ]
  },
  {
   "cell_type": "markdown",
   "metadata": {},
   "source": [
    "**Нормализация**"
   ]
  },
  {
   "cell_type": "markdown",
   "metadata": {},
   "source": [
    "Привести распределение к амплитуде [0, 1]"
   ]
  },
  {
   "cell_type": "markdown",
   "metadata": {},
   "source": [
    "$$X_{normalized} = \\frac{X - X_{min}}{X_{max} - X_{min}}$$"
   ]
  },
  {
   "cell_type": "code",
   "execution_count": 117,
   "metadata": {},
   "outputs": [
    {
     "data": {
      "image/png": "[encoded data removed]",
      "text/plain": [
       "<Figure size 432x288 with 1 Axes>"
      ]
     },
     "metadata": {},
     "output_type": "display_data"
    }
   ],
   "source": [
    "plt.hist((df_apts['X1'] - df_apts['X1'].min()) / (df_apts['X1'].max() - df_apts['X1'].min()))\n",
    "plt.show(\"Standardization\")\n",
    "plt.show()"
   ]
  },
  {
   "cell_type": "markdown",
   "metadata": {},
   "source": [
    "**Стандартизация**"
   ]
  },
  {
   "cell_type": "markdown",
   "metadata": {},
   "source": [
    "Привести распределение к среднему, равному 0 и стандартному отклонению, равному 1"
   ]
  },
  {
   "cell_type": "markdown",
   "metadata": {},
   "source": [
    "$$X_{changed} = \\frac{X - \\mu}{\\sigma}$$"
   ]
  },
  {
   "cell_type": "code",
   "execution_count": 118,
   "metadata": {
    "scrolled": true
   },
   "outputs": [
    {
     "data": {
      "image/png": "[encoded data removed]",
      "text/plain": [
       "<Figure size 432x288 with 1 Axes>"
      ]
     },
     "metadata": {},
     "output_type": "display_data"
    }
   ],
   "source": [
    "plt.hist((df_apts['X1'] - df_apts['X1'].mean()) / df_apts['X1'].std())\n",
    "plt.title(\"Standardization\")\n",
    "plt.show()"
   ]
  },
  {
   "cell_type": "markdown",
   "metadata": {},
   "source": [
    "**В чём разница между нормализацией и стандартизацией?**"
   ]
  },
  {
   "cell_type": "code",
   "execution_count": 119,
   "metadata": {},
   "outputs": [],
   "source": [
    "df_apts[\"X1\"].loc[174] = 20000 # добавим аномальный экземпляр"
   ]
  },
  {
   "cell_type": "code",
   "execution_count": 120,
   "metadata": {},
   "outputs": [
    {
     "data": {
      "image/png": "[encoded data removed]",
      "text/plain": [
       "<Figure size 432x288 with 1 Axes>"
      ]
     },
     "metadata": {},
     "output_type": "display_data"
    }
   ],
   "source": [
    "plt.plot(df_apts['X1'], df_apts['X2'], 'o')\n",
    "plt.xlabel('Area')\n",
    "plt.ylabel('Price')\n",
    "plt.show()"
   ]
  },
  {
   "cell_type": "code",
   "execution_count": 121,
   "metadata": {
    "scrolled": true
   },
   "outputs": [
    {
     "data": {
      "image/png": "[encoded data removed]",
      "text/plain": [
       "<Figure size 432x288 with 1 Axes>"
      ]
     },
     "metadata": {},
     "output_type": "display_data"
    }
   ],
   "source": [
    "plt.hist((df_apts['X1'] - df_apts['X1'].min()) / (df_apts['X1'].max() - df_apts['X1'].min()))\n",
    "plt.title(\"Normalization\")\n",
    "plt.show()"
   ]
  },
  {
   "cell_type": "code",
   "execution_count": 122,
   "metadata": {},
   "outputs": [
    {
     "data": {
      "image/png": "[encoded data removed]",
      "text/plain": [
       "<Figure size 432x288 with 1 Axes>"
      ]
     },
     "metadata": {},
     "output_type": "display_data"
    }
   ],
   "source": [
    "plt.hist((df_apts['X1'] - df_apts['X1'].mean()) / df_apts['X1'].std())\n",
    "plt.title(\"Standardization\")\n",
    "plt.show()"
   ]
  },
  {
   "cell_type": "markdown",
   "metadata": {},
   "source": [
    "## One-hot encoding (one-hot кодирование)"
   ]
  },
  {
   "cell_type": "code",
   "execution_count": 141,
   "metadata": {},
   "outputs": [
    {
     "data": {
      "text/html": [
       "<div>\n",
       "<style scoped>\n",
       "    .dataframe tbody tr th:only-of-type {\n",
       "        vertical-align: middle;\n",
       "    }\n",
       "\n",
       "    .dataframe tbody tr th {\n",
       "        vertical-align: top;\n",
       "    }\n",
       "\n",
       "    .dataframe thead th {\n",
       "        text-align: right;\n",
       "    }\n",
       "</style>\n",
       "<table border=\"1\" class=\"dataframe\">\n",
       "  <thead>\n",
       "    <tr style=\"text-align: right;\">\n",
       "      <th></th>\n",
       "      <th>item_id</th>\n",
       "      <th>user_id</th>\n",
       "      <th>region</th>\n",
       "      <th>city</th>\n",
       "      <th>parent_category_name</th>\n",
       "      <th>category_name</th>\n",
       "      <th>param_1</th>\n",
       "      <th>param_2</th>\n",
       "      <th>param_3</th>\n",
       "      <th>title</th>\n",
       "      <th>description</th>\n",
       "      <th>price</th>\n",
       "      <th>item_seq_number</th>\n",
       "      <th>activation_date</th>\n",
       "      <th>user_type</th>\n",
       "      <th>image</th>\n",
       "      <th>image_top_1</th>\n",
       "      <th>deal_probability</th>\n",
       "    </tr>\n",
       "  </thead>\n",
       "  <tbody>\n",
       "    <tr>\n",
       "      <th>995</th>\n",
       "      <td>401d5fa8e55d</td>\n",
       "      <td>b5fe6a389cc4</td>\n",
       "      <td>Ярославская область</td>\n",
       "      <td>Ярославль</td>\n",
       "      <td>Хобби и отдых</td>\n",
       "      <td>Спорт и отдых</td>\n",
       "      <td>Игры с мячом</td>\n",
       "      <td>NaN</td>\n",
       "      <td>NaN</td>\n",
       "      <td>Продам бутсы Adidas</td>\n",
       "      <td>продам бутсы в отличном состоянии.отыграл 3 тр...</td>\n",
       "      <td>2.886516e+05</td>\n",
       "      <td>27</td>\n",
       "      <td>2017-03-27</td>\n",
       "      <td>Private</td>\n",
       "      <td>7c640fb4b6b4066c54e082193b66bedaedfee5e4d12975...</td>\n",
       "      <td>640.0</td>\n",
       "      <td>0.00000</td>\n",
       "    </tr>\n",
       "    <tr>\n",
       "      <th>996</th>\n",
       "      <td>4b136de2c16a</td>\n",
       "      <td>f57df929a284</td>\n",
       "      <td>Воронежская область</td>\n",
       "      <td>Воронеж</td>\n",
       "      <td>Бытовая электроника</td>\n",
       "      <td>Игры, приставки и программы</td>\n",
       "      <td>Игры для приставок</td>\n",
       "      <td>NaN</td>\n",
       "      <td>NaN</td>\n",
       "      <td>Продам диск lara croft на psp</td>\n",
       "      <td>NaN</td>\n",
       "      <td>3.500000e+02</td>\n",
       "      <td>142</td>\n",
       "      <td>2017-03-27</td>\n",
       "      <td>Company</td>\n",
       "      <td>0a7686a2e05ca2dc0470e550f1f03b1eddee7919d363ca...</td>\n",
       "      <td>2888.0</td>\n",
       "      <td>0.00000</td>\n",
       "    </tr>\n",
       "    <tr>\n",
       "      <th>997</th>\n",
       "      <td>a65090f39f50</td>\n",
       "      <td>8673d0037023</td>\n",
       "      <td>Свердловская область</td>\n",
       "      <td>Монетный</td>\n",
       "      <td>Недвижимость</td>\n",
       "      <td>Дома, дачи, коттеджи</td>\n",
       "      <td>Продам</td>\n",
       "      <td>Коттедж</td>\n",
       "      <td>NaN</td>\n",
       "      <td>Коттедж 150 м² на участке 12 сот.</td>\n",
       "      <td>Продается чудесный коттедж в экологически чист...</td>\n",
       "      <td>5.900000e+06</td>\n",
       "      <td>5830</td>\n",
       "      <td>2017-03-18</td>\n",
       "      <td>Shop</td>\n",
       "      <td>9061df217dd8f2b338e2645d52b09af6143677d011002a...</td>\n",
       "      <td>1376.0</td>\n",
       "      <td>0.07725</td>\n",
       "    </tr>\n",
       "    <tr>\n",
       "      <th>998</th>\n",
       "      <td>53e0aa75cecd</td>\n",
       "      <td>fbfe3f73586d</td>\n",
       "      <td>Башкортостан</td>\n",
       "      <td>Ишимбай</td>\n",
       "      <td>Транспорт</td>\n",
       "      <td>Автомобили</td>\n",
       "      <td>С пробегом</td>\n",
       "      <td>Hyundai</td>\n",
       "      <td>i30</td>\n",
       "      <td>Hyundai i30, 2012</td>\n",
       "      <td>Продается автомобиль  Hyundai i30. Был куплен ...</td>\n",
       "      <td>5.500000e+05</td>\n",
       "      <td>1</td>\n",
       "      <td>2017-03-20</td>\n",
       "      <td>Private</td>\n",
       "      <td>c7fe551884576cb8b1bb9bbfe216b3e0b437d6b2208deb...</td>\n",
       "      <td>1118.0</td>\n",
       "      <td>0.10521</td>\n",
       "    </tr>\n",
       "    <tr>\n",
       "      <th>999</th>\n",
       "      <td>211a7d242f97</td>\n",
       "      <td>b3e017bd61eb</td>\n",
       "      <td>Самарская область</td>\n",
       "      <td>Самара</td>\n",
       "      <td>Для дома и дачи</td>\n",
       "      <td>Ремонт и строительство</td>\n",
       "      <td>Окна и балконы</td>\n",
       "      <td>NaN</td>\n",
       "      <td>NaN</td>\n",
       "      <td>Породам окно</td>\n",
       "      <td>Глухое 1кам32 с.пакет, ш650в1440. Новое не под...</td>\n",
       "      <td>2.000000e+03</td>\n",
       "      <td>32</td>\n",
       "      <td>2017-03-24</td>\n",
       "      <td>Private</td>\n",
       "      <td>a68483a58dfbf3b7abf95dfe623651aa45dc211dbb2992...</td>\n",
       "      <td>1405.0</td>\n",
       "      <td>0.00000</td>\n",
       "    </tr>\n",
       "  </tbody>\n",
       "</table>\n",
       "</div>"
      ],
      "text/plain": [
       "          item_id       user_id                region       city  \\\n",
       "995  401d5fa8e55d  b5fe6a389cc4   Ярославская область  Ярославль   \n",
       "996  4b136de2c16a  f57df929a284   Воронежская область    Воронеж   \n",
       "997  a65090f39f50  8673d0037023  Свердловская область   Монетный   \n",
       "998  53e0aa75cecd  fbfe3f73586d          Башкортостан    Ишимбай   \n",
       "999  211a7d242f97  b3e017bd61eb     Самарская область     Самара   \n",
       "\n",
       "    parent_category_name                category_name             param_1  \\\n",
       "995        Хобби и отдых                Спорт и отдых        Игры с мячом   \n",
       "996  Бытовая электроника  Игры, приставки и программы  Игры для приставок   \n",
       "997         Недвижимость         Дома, дачи, коттеджи              Продам   \n",
       "998            Транспорт                   Автомобили          С пробегом   \n",
       "999      Для дома и дачи       Ремонт и строительство      Окна и балконы   \n",
       "\n",
       "     param_2 param_3                              title  \\\n",
       "995      NaN     NaN                Продам бутсы Adidas   \n",
       "996      NaN     NaN      Продам диск lara croft на psp   \n",
       "997  Коттедж     NaN  Коттедж 150 м² на участке 12 сот.   \n",
       "998  Hyundai     i30                  Hyundai i30, 2012   \n",
       "999      NaN     NaN                       Породам окно   \n",
       "\n",
       "                                           description         price  \\\n",
       "995  продам бутсы в отличном состоянии.отыграл 3 тр...  2.886516e+05   \n",
       "996                                                NaN  3.500000e+02   \n",
       "997  Продается чудесный коттедж в экологически чист...  5.900000e+06   \n",
       "998  Продается автомобиль  Hyundai i30. Был куплен ...  5.500000e+05   \n",
       "999  Глухое 1кам32 с.пакет, ш650в1440. Новое не под...  2.000000e+03   \n",
       "\n",
       "     item_seq_number activation_date user_type  \\\n",
       "995               27      2017-03-27   Private   \n",
       "996              142      2017-03-27   Company   \n",
       "997             5830      2017-03-18      Shop   \n",
       "998                1      2017-03-20   Private   \n",
       "999               32      2017-03-24   Private   \n",
       "\n",
       "                                                 image  image_top_1  \\\n",
       "995  7c640fb4b6b4066c54e082193b66bedaedfee5e4d12975...        640.0   \n",
       "996  0a7686a2e05ca2dc0470e550f1f03b1eddee7919d363ca...       2888.0   \n",
       "997  9061df217dd8f2b338e2645d52b09af6143677d011002a...       1376.0   \n",
       "998  c7fe551884576cb8b1bb9bbfe216b3e0b437d6b2208deb...       1118.0   \n",
       "999  a68483a58dfbf3b7abf95dfe623651aa45dc211dbb2992...       1405.0   \n",
       "\n",
       "     deal_probability  \n",
       "995           0.00000  \n",
       "996           0.00000  \n",
       "997           0.07725  \n",
       "998           0.10521  \n",
       "999           0.00000  "
      ]
     },
     "execution_count": 141,
     "metadata": {},
     "output_type": "execute_result"
    }
   ],
   "source": [
    "df_avito.tail()"
   ]
  },
  {
   "cell_type": "code",
   "execution_count": 142,
   "metadata": {},
   "outputs": [
    {
     "data": {
      "text/plain": [
       "str"
      ]
     },
     "execution_count": 142,
     "metadata": {},
     "output_type": "execute_result"
    }
   ],
   "source": [
    "type(df_avito['activation_date'][0])"
   ]
  },
  {
   "cell_type": "code",
   "execution_count": 143,
   "metadata": {},
   "outputs": [
    {
     "data": {
      "text/plain": [
       "item_id                 1000\n",
       "user_id                  997\n",
       "region                    28\n",
       "city                     190\n",
       "parent_category_name       9\n",
       "category_name             46\n",
       "param_1                  146\n",
       "param_2                   94\n",
       "param_3                   90\n",
       "title                    944\n",
       "description              929\n",
       "price                    249\n",
       "item_seq_number          287\n",
       "activation_date           14\n",
       "user_type                  3\n",
       "image                    921\n",
       "image_top_1              567\n",
       "deal_probability         229\n",
       "dtype: int64"
      ]
     },
     "execution_count": 143,
     "metadata": {},
     "output_type": "execute_result"
    }
   ],
   "source": [
    "df_avito.nunique()"
   ]
  },
  {
   "cell_type": "code",
   "execution_count": 145,
   "metadata": {},
   "outputs": [
    {
     "data": {
      "text/html": [
       "<div>\n",
       "<style scoped>\n",
       "    .dataframe tbody tr th:only-of-type {\n",
       "        vertical-align: middle;\n",
       "    }\n",
       "\n",
       "    .dataframe tbody tr th {\n",
       "        vertical-align: top;\n",
       "    }\n",
       "\n",
       "    .dataframe thead th {\n",
       "        text-align: right;\n",
       "    }\n",
       "</style>\n",
       "<table border=\"1\" class=\"dataframe\">\n",
       "  <thead>\n",
       "    <tr style=\"text-align: right;\">\n",
       "      <th></th>\n",
       "      <th>Автомобили</th>\n",
       "      <th>Аквариум</th>\n",
       "      <th>Аудио и видео</th>\n",
       "      <th>Билеты и путешествия</th>\n",
       "      <th>Бытовая техника</th>\n",
       "      <th>Велосипеды</th>\n",
       "      <th>Водный транспорт</th>\n",
       "      <th>Гаражи и машиноместа</th>\n",
       "      <th>Готовый бизнес</th>\n",
       "      <th>Грузовики и спецтехника</th>\n",
       "      <th>...</th>\n",
       "      <th>Растения</th>\n",
       "      <th>Ремонт и строительство</th>\n",
       "      <th>Собаки</th>\n",
       "      <th>Спорт и отдых</th>\n",
       "      <th>Телефоны</th>\n",
       "      <th>Товары для детей и игрушки</th>\n",
       "      <th>Товары для животных</th>\n",
       "      <th>Товары для компьютера</th>\n",
       "      <th>Фототехника</th>\n",
       "      <th>Часы и украшения</th>\n",
       "    </tr>\n",
       "  </thead>\n",
       "  <tbody>\n",
       "    <tr>\n",
       "      <th>0</th>\n",
       "      <td>0</td>\n",
       "      <td>0</td>\n",
       "      <td>0</td>\n",
       "      <td>0</td>\n",
       "      <td>0</td>\n",
       "      <td>0</td>\n",
       "      <td>0</td>\n",
       "      <td>0</td>\n",
       "      <td>0</td>\n",
       "      <td>0</td>\n",
       "      <td>...</td>\n",
       "      <td>0</td>\n",
       "      <td>0</td>\n",
       "      <td>0</td>\n",
       "      <td>0</td>\n",
       "      <td>0</td>\n",
       "      <td>1</td>\n",
       "      <td>0</td>\n",
       "      <td>0</td>\n",
       "      <td>0</td>\n",
       "      <td>0</td>\n",
       "    </tr>\n",
       "    <tr>\n",
       "      <th>1</th>\n",
       "      <td>0</td>\n",
       "      <td>0</td>\n",
       "      <td>0</td>\n",
       "      <td>0</td>\n",
       "      <td>0</td>\n",
       "      <td>0</td>\n",
       "      <td>0</td>\n",
       "      <td>0</td>\n",
       "      <td>0</td>\n",
       "      <td>0</td>\n",
       "      <td>...</td>\n",
       "      <td>0</td>\n",
       "      <td>0</td>\n",
       "      <td>0</td>\n",
       "      <td>0</td>\n",
       "      <td>0</td>\n",
       "      <td>0</td>\n",
       "      <td>0</td>\n",
       "      <td>0</td>\n",
       "      <td>0</td>\n",
       "      <td>0</td>\n",
       "    </tr>\n",
       "    <tr>\n",
       "      <th>2</th>\n",
       "      <td>0</td>\n",
       "      <td>0</td>\n",
       "      <td>1</td>\n",
       "      <td>0</td>\n",
       "      <td>0</td>\n",
       "      <td>0</td>\n",
       "      <td>0</td>\n",
       "      <td>0</td>\n",
       "      <td>0</td>\n",
       "      <td>0</td>\n",
       "      <td>...</td>\n",
       "      <td>0</td>\n",
       "      <td>0</td>\n",
       "      <td>0</td>\n",
       "      <td>0</td>\n",
       "      <td>0</td>\n",
       "      <td>0</td>\n",
       "      <td>0</td>\n",
       "      <td>0</td>\n",
       "      <td>0</td>\n",
       "      <td>0</td>\n",
       "    </tr>\n",
       "    <tr>\n",
       "      <th>3</th>\n",
       "      <td>0</td>\n",
       "      <td>0</td>\n",
       "      <td>0</td>\n",
       "      <td>0</td>\n",
       "      <td>0</td>\n",
       "      <td>0</td>\n",
       "      <td>0</td>\n",
       "      <td>0</td>\n",
       "      <td>0</td>\n",
       "      <td>0</td>\n",
       "      <td>...</td>\n",
       "      <td>0</td>\n",
       "      <td>0</td>\n",
       "      <td>0</td>\n",
       "      <td>0</td>\n",
       "      <td>0</td>\n",
       "      <td>1</td>\n",
       "      <td>0</td>\n",
       "      <td>0</td>\n",
       "      <td>0</td>\n",
       "      <td>0</td>\n",
       "    </tr>\n",
       "    <tr>\n",
       "      <th>4</th>\n",
       "      <td>1</td>\n",
       "      <td>0</td>\n",
       "      <td>0</td>\n",
       "      <td>0</td>\n",
       "      <td>0</td>\n",
       "      <td>0</td>\n",
       "      <td>0</td>\n",
       "      <td>0</td>\n",
       "      <td>0</td>\n",
       "      <td>0</td>\n",
       "      <td>...</td>\n",
       "      <td>0</td>\n",
       "      <td>0</td>\n",
       "      <td>0</td>\n",
       "      <td>0</td>\n",
       "      <td>0</td>\n",
       "      <td>0</td>\n",
       "      <td>0</td>\n",
       "      <td>0</td>\n",
       "      <td>0</td>\n",
       "      <td>0</td>\n",
       "    </tr>\n",
       "  </tbody>\n",
       "</table>\n",
       "<p>5 rows × 46 columns</p>\n",
       "</div>"
      ],
      "text/plain": [
       "   Автомобили  Аквариум  Аудио и видео  Билеты и путешествия  Бытовая техника  \\\n",
       "0           0         0              0                     0                0   \n",
       "1           0         0              0                     0                0   \n",
       "2           0         0              1                     0                0   \n",
       "3           0         0              0                     0                0   \n",
       "4           1         0              0                     0                0   \n",
       "\n",
       "   Велосипеды  Водный транспорт  Гаражи и машиноместа  Готовый бизнес  \\\n",
       "0           0                 0                     0               0   \n",
       "1           0                 0                     0               0   \n",
       "2           0                 0                     0               0   \n",
       "3           0                 0                     0               0   \n",
       "4           0                 0                     0               0   \n",
       "\n",
       "   Грузовики и спецтехника        ...         Растения  \\\n",
       "0                        0        ...                0   \n",
       "1                        0        ...                0   \n",
       "2                        0        ...                0   \n",
       "3                        0        ...                0   \n",
       "4                        0        ...                0   \n",
       "\n",
       "   Ремонт и строительство  Собаки  Спорт и отдых  Телефоны  \\\n",
       "0                       0       0              0         0   \n",
       "1                       0       0              0         0   \n",
       "2                       0       0              0         0   \n",
       "3                       0       0              0         0   \n",
       "4                       0       0              0         0   \n",
       "\n",
       "   Товары для детей и игрушки  Товары для животных  Товары для компьютера  \\\n",
       "0                           1                    0                      0   \n",
       "1                           0                    0                      0   \n",
       "2                           0                    0                      0   \n",
       "3                           1                    0                      0   \n",
       "4                           0                    0                      0   \n",
       "\n",
       "   Фототехника  Часы и украшения  \n",
       "0            0                 0  \n",
       "1            0                 0  \n",
       "2            0                 0  \n",
       "3            0                 0  \n",
       "4            0                 0  \n",
       "\n",
       "[5 rows x 46 columns]"
      ]
     },
     "execution_count": 145,
     "metadata": {},
     "output_type": "execute_result"
    }
   ],
   "source": [
    "pd.get_dummies(df_avito['category_name']).head()"
   ]
  },
  {
   "cell_type": "code",
   "execution_count": 90,
   "metadata": {},
   "outputs": [],
   "source": [
    "df_avito = pd.concat([df_avito.drop(['category_name'], axis=1), pd.get_dummies(df_avito['category_name'])], axis=1)"
   ]
  },
  {
   "cell_type": "code",
   "execution_count": 91,
   "metadata": {},
   "outputs": [
    {
     "data": {
      "text/html": [
       "<div>\n",
       "<style scoped>\n",
       "    .dataframe tbody tr th:only-of-type {\n",
       "        vertical-align: middle;\n",
       "    }\n",
       "\n",
       "    .dataframe tbody tr th {\n",
       "        vertical-align: top;\n",
       "    }\n",
       "\n",
       "    .dataframe thead th {\n",
       "        text-align: right;\n",
       "    }\n",
       "</style>\n",
       "<table border=\"1\" class=\"dataframe\">\n",
       "  <thead>\n",
       "    <tr style=\"text-align: right;\">\n",
       "      <th></th>\n",
       "      <th>item_id</th>\n",
       "      <th>user_id</th>\n",
       "      <th>region</th>\n",
       "      <th>city</th>\n",
       "      <th>parent_category_name</th>\n",
       "      <th>param_1</th>\n",
       "      <th>param_2</th>\n",
       "      <th>param_3</th>\n",
       "      <th>title</th>\n",
       "      <th>description</th>\n",
       "      <th>...</th>\n",
       "      <th>Растения</th>\n",
       "      <th>Ремонт и строительство</th>\n",
       "      <th>Собаки</th>\n",
       "      <th>Спорт и отдых</th>\n",
       "      <th>Телефоны</th>\n",
       "      <th>Товары для детей и игрушки</th>\n",
       "      <th>Товары для животных</th>\n",
       "      <th>Товары для компьютера</th>\n",
       "      <th>Фототехника</th>\n",
       "      <th>Часы и украшения</th>\n",
       "    </tr>\n",
       "  </thead>\n",
       "  <tbody>\n",
       "    <tr>\n",
       "      <th>0</th>\n",
       "      <td>b912c3c6a6ad</td>\n",
       "      <td>e00f8ff2eaf9</td>\n",
       "      <td>Свердловская область</td>\n",
       "      <td>Екатеринбург</td>\n",
       "      <td>Личные вещи</td>\n",
       "      <td>Постельные принадлежности</td>\n",
       "      <td>NaN</td>\n",
       "      <td>NaN</td>\n",
       "      <td>Кокоби(кокон для сна)</td>\n",
       "      <td>Кокон для сна малыша,пользовались меньше месяц...</td>\n",
       "      <td>...</td>\n",
       "      <td>0</td>\n",
       "      <td>0</td>\n",
       "      <td>0</td>\n",
       "      <td>0</td>\n",
       "      <td>0</td>\n",
       "      <td>1</td>\n",
       "      <td>0</td>\n",
       "      <td>0</td>\n",
       "      <td>0</td>\n",
       "      <td>0</td>\n",
       "    </tr>\n",
       "    <tr>\n",
       "      <th>1</th>\n",
       "      <td>2dac0150717d</td>\n",
       "      <td>39aeb48f0017</td>\n",
       "      <td>Самарская область</td>\n",
       "      <td>Самара</td>\n",
       "      <td>Для дома и дачи</td>\n",
       "      <td>Другое</td>\n",
       "      <td>NaN</td>\n",
       "      <td>NaN</td>\n",
       "      <td>Стойка для Одежды</td>\n",
       "      <td>Стойка для одежды, под вешалки. С бутика.</td>\n",
       "      <td>...</td>\n",
       "      <td>0</td>\n",
       "      <td>0</td>\n",
       "      <td>0</td>\n",
       "      <td>0</td>\n",
       "      <td>0</td>\n",
       "      <td>0</td>\n",
       "      <td>0</td>\n",
       "      <td>0</td>\n",
       "      <td>0</td>\n",
       "      <td>0</td>\n",
       "    </tr>\n",
       "    <tr>\n",
       "      <th>2</th>\n",
       "      <td>ba83aefab5dc</td>\n",
       "      <td>91e2f88dd6e3</td>\n",
       "      <td>Ростовская область</td>\n",
       "      <td>Ростов-на-Дону</td>\n",
       "      <td>Бытовая электроника</td>\n",
       "      <td>Видео, DVD и Blu-ray плееры</td>\n",
       "      <td>NaN</td>\n",
       "      <td>NaN</td>\n",
       "      <td>Philips bluray</td>\n",
       "      <td>В хорошем состоянии, домашний кинотеатр с blu ...</td>\n",
       "      <td>...</td>\n",
       "      <td>0</td>\n",
       "      <td>0</td>\n",
       "      <td>0</td>\n",
       "      <td>0</td>\n",
       "      <td>0</td>\n",
       "      <td>0</td>\n",
       "      <td>0</td>\n",
       "      <td>0</td>\n",
       "      <td>0</td>\n",
       "      <td>0</td>\n",
       "    </tr>\n",
       "    <tr>\n",
       "      <th>3</th>\n",
       "      <td>02996f1dd2ea</td>\n",
       "      <td>bf5cccea572d</td>\n",
       "      <td>Татарстан</td>\n",
       "      <td>Набережные Челны</td>\n",
       "      <td>Личные вещи</td>\n",
       "      <td>Автомобильные кресла</td>\n",
       "      <td>NaN</td>\n",
       "      <td>NaN</td>\n",
       "      <td>Автокресло</td>\n",
       "      <td>Продам кресло от0-25кг</td>\n",
       "      <td>...</td>\n",
       "      <td>0</td>\n",
       "      <td>0</td>\n",
       "      <td>0</td>\n",
       "      <td>0</td>\n",
       "      <td>0</td>\n",
       "      <td>1</td>\n",
       "      <td>0</td>\n",
       "      <td>0</td>\n",
       "      <td>0</td>\n",
       "      <td>0</td>\n",
       "    </tr>\n",
       "    <tr>\n",
       "      <th>4</th>\n",
       "      <td>7c90be56d2ab</td>\n",
       "      <td>ef50846afc0b</td>\n",
       "      <td>Волгоградская область</td>\n",
       "      <td>Волгоград</td>\n",
       "      <td>Транспорт</td>\n",
       "      <td>С пробегом</td>\n",
       "      <td>ВАЗ (LADA)</td>\n",
       "      <td>2110</td>\n",
       "      <td>ВАЗ 2110, 2003</td>\n",
       "      <td>Все вопросы по телефону.</td>\n",
       "      <td>...</td>\n",
       "      <td>0</td>\n",
       "      <td>0</td>\n",
       "      <td>0</td>\n",
       "      <td>0</td>\n",
       "      <td>0</td>\n",
       "      <td>0</td>\n",
       "      <td>0</td>\n",
       "      <td>0</td>\n",
       "      <td>0</td>\n",
       "      <td>0</td>\n",
       "    </tr>\n",
       "  </tbody>\n",
       "</table>\n",
       "<p>5 rows × 63 columns</p>\n",
       "</div>"
      ],
      "text/plain": [
       "        item_id       user_id                 region              city  \\\n",
       "0  b912c3c6a6ad  e00f8ff2eaf9   Свердловская область      Екатеринбург   \n",
       "1  2dac0150717d  39aeb48f0017      Самарская область            Самара   \n",
       "2  ba83aefab5dc  91e2f88dd6e3     Ростовская область    Ростов-на-Дону   \n",
       "3  02996f1dd2ea  bf5cccea572d              Татарстан  Набережные Челны   \n",
       "4  7c90be56d2ab  ef50846afc0b  Волгоградская область         Волгоград   \n",
       "\n",
       "  parent_category_name                      param_1     param_2 param_3  \\\n",
       "0          Личные вещи    Постельные принадлежности         NaN     NaN   \n",
       "1      Для дома и дачи                       Другое         NaN     NaN   \n",
       "2  Бытовая электроника  Видео, DVD и Blu-ray плееры         NaN     NaN   \n",
       "3          Личные вещи         Автомобильные кресла         NaN     NaN   \n",
       "4            Транспорт                   С пробегом  ВАЗ (LADA)    2110   \n",
       "\n",
       "                   title                                        description  \\\n",
       "0  Кокоби(кокон для сна)  Кокон для сна малыша,пользовались меньше месяц...   \n",
       "1      Стойка для Одежды          Стойка для одежды, под вешалки. С бутика.   \n",
       "2         Philips bluray  В хорошем состоянии, домашний кинотеатр с blu ...   \n",
       "3             Автокресло                             Продам кресло от0-25кг   \n",
       "4         ВАЗ 2110, 2003                           Все вопросы по телефону.   \n",
       "\n",
       "         ...         Растения  Ремонт и строительство Собаки Спорт и отдых  \\\n",
       "0        ...                0                       0      0             0   \n",
       "1        ...                0                       0      0             0   \n",
       "2        ...                0                       0      0             0   \n",
       "3        ...                0                       0      0             0   \n",
       "4        ...                0                       0      0             0   \n",
       "\n",
       "  Телефоны  Товары для детей и игрушки  Товары для животных  \\\n",
       "0        0                           1                    0   \n",
       "1        0                           0                    0   \n",
       "2        0                           0                    0   \n",
       "3        0                           1                    0   \n",
       "4        0                           0                    0   \n",
       "\n",
       "   Товары для компьютера  Фототехника  Часы и украшения  \n",
       "0                      0            0                 0  \n",
       "1                      0            0                 0  \n",
       "2                      0            0                 0  \n",
       "3                      0            0                 0  \n",
       "4                      0            0                 0  \n",
       "\n",
       "[5 rows x 63 columns]"
      ]
     },
     "execution_count": 91,
     "metadata": {},
     "output_type": "execute_result"
    }
   ],
   "source": [
    "df_avito.head()"
   ]
  },
  {
   "cell_type": "markdown",
   "metadata": {},
   "source": [
    "## Decomposition (декомпозиция)"
   ]
  },
  {
   "cell_type": "code",
   "execution_count": 92,
   "metadata": {},
   "outputs": [
    {
     "data": {
      "text/html": [
       "<div>\n",
       "<style scoped>\n",
       "    .dataframe tbody tr th:only-of-type {\n",
       "        vertical-align: middle;\n",
       "    }\n",
       "\n",
       "    .dataframe tbody tr th {\n",
       "        vertical-align: top;\n",
       "    }\n",
       "\n",
       "    .dataframe thead th {\n",
       "        text-align: right;\n",
       "    }\n",
       "</style>\n",
       "<table border=\"1\" class=\"dataframe\">\n",
       "  <thead>\n",
       "    <tr style=\"text-align: right;\">\n",
       "      <th></th>\n",
       "      <th>item_id</th>\n",
       "      <th>user_id</th>\n",
       "      <th>region</th>\n",
       "      <th>city</th>\n",
       "      <th>parent_category_name</th>\n",
       "      <th>param_1</th>\n",
       "      <th>param_2</th>\n",
       "      <th>param_3</th>\n",
       "      <th>title</th>\n",
       "      <th>description</th>\n",
       "      <th>...</th>\n",
       "      <th>Растения</th>\n",
       "      <th>Ремонт и строительство</th>\n",
       "      <th>Собаки</th>\n",
       "      <th>Спорт и отдых</th>\n",
       "      <th>Телефоны</th>\n",
       "      <th>Товары для детей и игрушки</th>\n",
       "      <th>Товары для животных</th>\n",
       "      <th>Товары для компьютера</th>\n",
       "      <th>Фототехника</th>\n",
       "      <th>Часы и украшения</th>\n",
       "    </tr>\n",
       "  </thead>\n",
       "  <tbody>\n",
       "    <tr>\n",
       "      <th>0</th>\n",
       "      <td>b912c3c6a6ad</td>\n",
       "      <td>e00f8ff2eaf9</td>\n",
       "      <td>Свердловская область</td>\n",
       "      <td>Екатеринбург</td>\n",
       "      <td>Личные вещи</td>\n",
       "      <td>Постельные принадлежности</td>\n",
       "      <td>NaN</td>\n",
       "      <td>NaN</td>\n",
       "      <td>Кокоби(кокон для сна)</td>\n",
       "      <td>Кокон для сна малыша,пользовались меньше месяц...</td>\n",
       "      <td>...</td>\n",
       "      <td>0</td>\n",
       "      <td>0</td>\n",
       "      <td>0</td>\n",
       "      <td>0</td>\n",
       "      <td>0</td>\n",
       "      <td>1</td>\n",
       "      <td>0</td>\n",
       "      <td>0</td>\n",
       "      <td>0</td>\n",
       "      <td>0</td>\n",
       "    </tr>\n",
       "    <tr>\n",
       "      <th>1</th>\n",
       "      <td>2dac0150717d</td>\n",
       "      <td>39aeb48f0017</td>\n",
       "      <td>Самарская область</td>\n",
       "      <td>Самара</td>\n",
       "      <td>Для дома и дачи</td>\n",
       "      <td>Другое</td>\n",
       "      <td>NaN</td>\n",
       "      <td>NaN</td>\n",
       "      <td>Стойка для Одежды</td>\n",
       "      <td>Стойка для одежды, под вешалки. С бутика.</td>\n",
       "      <td>...</td>\n",
       "      <td>0</td>\n",
       "      <td>0</td>\n",
       "      <td>0</td>\n",
       "      <td>0</td>\n",
       "      <td>0</td>\n",
       "      <td>0</td>\n",
       "      <td>0</td>\n",
       "      <td>0</td>\n",
       "      <td>0</td>\n",
       "      <td>0</td>\n",
       "    </tr>\n",
       "    <tr>\n",
       "      <th>2</th>\n",
       "      <td>ba83aefab5dc</td>\n",
       "      <td>91e2f88dd6e3</td>\n",
       "      <td>Ростовская область</td>\n",
       "      <td>Ростов-на-Дону</td>\n",
       "      <td>Бытовая электроника</td>\n",
       "      <td>Видео, DVD и Blu-ray плееры</td>\n",
       "      <td>NaN</td>\n",
       "      <td>NaN</td>\n",
       "      <td>Philips bluray</td>\n",
       "      <td>В хорошем состоянии, домашний кинотеатр с blu ...</td>\n",
       "      <td>...</td>\n",
       "      <td>0</td>\n",
       "      <td>0</td>\n",
       "      <td>0</td>\n",
       "      <td>0</td>\n",
       "      <td>0</td>\n",
       "      <td>0</td>\n",
       "      <td>0</td>\n",
       "      <td>0</td>\n",
       "      <td>0</td>\n",
       "      <td>0</td>\n",
       "    </tr>\n",
       "    <tr>\n",
       "      <th>3</th>\n",
       "      <td>02996f1dd2ea</td>\n",
       "      <td>bf5cccea572d</td>\n",
       "      <td>Татарстан</td>\n",
       "      <td>Набережные Челны</td>\n",
       "      <td>Личные вещи</td>\n",
       "      <td>Автомобильные кресла</td>\n",
       "      <td>NaN</td>\n",
       "      <td>NaN</td>\n",
       "      <td>Автокресло</td>\n",
       "      <td>Продам кресло от0-25кг</td>\n",
       "      <td>...</td>\n",
       "      <td>0</td>\n",
       "      <td>0</td>\n",
       "      <td>0</td>\n",
       "      <td>0</td>\n",
       "      <td>0</td>\n",
       "      <td>1</td>\n",
       "      <td>0</td>\n",
       "      <td>0</td>\n",
       "      <td>0</td>\n",
       "      <td>0</td>\n",
       "    </tr>\n",
       "    <tr>\n",
       "      <th>4</th>\n",
       "      <td>7c90be56d2ab</td>\n",
       "      <td>ef50846afc0b</td>\n",
       "      <td>Волгоградская область</td>\n",
       "      <td>Волгоград</td>\n",
       "      <td>Транспорт</td>\n",
       "      <td>С пробегом</td>\n",
       "      <td>ВАЗ (LADA)</td>\n",
       "      <td>2110</td>\n",
       "      <td>ВАЗ 2110, 2003</td>\n",
       "      <td>Все вопросы по телефону.</td>\n",
       "      <td>...</td>\n",
       "      <td>0</td>\n",
       "      <td>0</td>\n",
       "      <td>0</td>\n",
       "      <td>0</td>\n",
       "      <td>0</td>\n",
       "      <td>0</td>\n",
       "      <td>0</td>\n",
       "      <td>0</td>\n",
       "      <td>0</td>\n",
       "      <td>0</td>\n",
       "    </tr>\n",
       "  </tbody>\n",
       "</table>\n",
       "<p>5 rows × 63 columns</p>\n",
       "</div>"
      ],
      "text/plain": [
       "        item_id       user_id                 region              city  \\\n",
       "0  b912c3c6a6ad  e00f8ff2eaf9   Свердловская область      Екатеринбург   \n",
       "1  2dac0150717d  39aeb48f0017      Самарская область            Самара   \n",
       "2  ba83aefab5dc  91e2f88dd6e3     Ростовская область    Ростов-на-Дону   \n",
       "3  02996f1dd2ea  bf5cccea572d              Татарстан  Набережные Челны   \n",
       "4  7c90be56d2ab  ef50846afc0b  Волгоградская область         Волгоград   \n",
       "\n",
       "  parent_category_name                      param_1     param_2 param_3  \\\n",
       "0          Личные вещи    Постельные принадлежности         NaN     NaN   \n",
       "1      Для дома и дачи                       Другое         NaN     NaN   \n",
       "2  Бытовая электроника  Видео, DVD и Blu-ray плееры         NaN     NaN   \n",
       "3          Личные вещи         Автомобильные кресла         NaN     NaN   \n",
       "4            Транспорт                   С пробегом  ВАЗ (LADA)    2110   \n",
       "\n",
       "                   title                                        description  \\\n",
       "0  Кокоби(кокон для сна)  Кокон для сна малыша,пользовались меньше месяц...   \n",
       "1      Стойка для Одежды          Стойка для одежды, под вешалки. С бутика.   \n",
       "2         Philips bluray  В хорошем состоянии, домашний кинотеатр с blu ...   \n",
       "3             Автокресло                             Продам кресло от0-25кг   \n",
       "4         ВАЗ 2110, 2003                           Все вопросы по телефону.   \n",
       "\n",
       "         ...         Растения  Ремонт и строительство Собаки Спорт и отдых  \\\n",
       "0        ...                0                       0      0             0   \n",
       "1        ...                0                       0      0             0   \n",
       "2        ...                0                       0      0             0   \n",
       "3        ...                0                       0      0             0   \n",
       "4        ...                0                       0      0             0   \n",
       "\n",
       "  Телефоны  Товары для детей и игрушки  Товары для животных  \\\n",
       "0        0                           1                    0   \n",
       "1        0                           0                    0   \n",
       "2        0                           0                    0   \n",
       "3        0                           1                    0   \n",
       "4        0                           0                    0   \n",
       "\n",
       "   Товары для компьютера  Фототехника  Часы и украшения  \n",
       "0                      0            0                 0  \n",
       "1                      0            0                 0  \n",
       "2                      0            0                 0  \n",
       "3                      0            0                 0  \n",
       "4                      0            0                 0  \n",
       "\n",
       "[5 rows x 63 columns]"
      ]
     },
     "execution_count": 92,
     "metadata": {},
     "output_type": "execute_result"
    }
   ],
   "source": [
    "df_avito.head()"
   ]
  },
  {
   "cell_type": "code",
   "execution_count": 93,
   "metadata": {},
   "outputs": [],
   "source": [
    "from datetime import datetime"
   ]
  },
  {
   "cell_type": "code",
   "execution_count": 94,
   "metadata": {},
   "outputs": [],
   "source": [
    "weekdays = []\n",
    "for x in df_avito['activation_date']:\n",
    "    weekdays.append(datetime.strptime(x, \"%Y-%m-%d\").weekday())\n",
    "weekdays = np.array(weekdays)\n",
    "is_weekend = (weekdays >= 5).astype(int)\n",
    "is_weekend"
   ]
  },
  {
   "cell_type": "markdown",
   "metadata": {},
   "source": [
    "## Aggregation (агрегация)"
   ]
  },
  {
   "cell_type": "code",
   "execution_count": 99,
   "metadata": {},
   "outputs": [
    {
     "data": {
      "text/plain": [
       "(175, 1)"
      ]
     },
     "execution_count": 99,
     "metadata": {},
     "output_type": "execute_result"
    }
   ],
   "source": [
    "df_apts_new = df_apts.drop('X1', axis=1)\n",
    "df_apts_new.shape"
   ]
  },
  {
   "cell_type": "code",
   "execution_count": 100,
   "metadata": {},
   "outputs": [
    {
     "data": {
      "text/html": [
       "<div>\n",
       "<style scoped>\n",
       "    .dataframe tbody tr th:only-of-type {\n",
       "        vertical-align: middle;\n",
       "    }\n",
       "\n",
       "    .dataframe tbody tr th {\n",
       "        vertical-align: top;\n",
       "    }\n",
       "\n",
       "    .dataframe thead th {\n",
       "        text-align: right;\n",
       "    }\n",
       "</style>\n",
       "<table border=\"1\" class=\"dataframe\">\n",
       "  <thead>\n",
       "    <tr style=\"text-align: right;\">\n",
       "      <th></th>\n",
       "      <th>length</th>\n",
       "      <th>width</th>\n",
       "      <th>X2</th>\n",
       "    </tr>\n",
       "  </thead>\n",
       "  <tbody>\n",
       "    <tr>\n",
       "      <th>0</th>\n",
       "      <td>9</td>\n",
       "      <td>17</td>\n",
       "      <td>4.458676e+06</td>\n",
       "    </tr>\n",
       "    <tr>\n",
       "      <th>1</th>\n",
       "      <td>3</td>\n",
       "      <td>18</td>\n",
       "      <td>1.996861e+06</td>\n",
       "    </tr>\n",
       "    <tr>\n",
       "      <th>2</th>\n",
       "      <td>5</td>\n",
       "      <td>16</td>\n",
       "      <td>3.803824e+06</td>\n",
       "    </tr>\n",
       "    <tr>\n",
       "      <th>3</th>\n",
       "      <td>6</td>\n",
       "      <td>7</td>\n",
       "      <td>3.435008e+06</td>\n",
       "    </tr>\n",
       "    <tr>\n",
       "      <th>4</th>\n",
       "      <td>7</td>\n",
       "      <td>13</td>\n",
       "      <td>4.431305e+06</td>\n",
       "    </tr>\n",
       "    <tr>\n",
       "      <th>5</th>\n",
       "      <td>9</td>\n",
       "      <td>19</td>\n",
       "      <td>4.033624e+06</td>\n",
       "    </tr>\n",
       "    <tr>\n",
       "      <th>6</th>\n",
       "      <td>7</td>\n",
       "      <td>16</td>\n",
       "      <td>5.185875e+06</td>\n",
       "    </tr>\n",
       "    <tr>\n",
       "      <th>7</th>\n",
       "      <td>13</td>\n",
       "      <td>11</td>\n",
       "      <td>3.455775e+06</td>\n",
       "    </tr>\n",
       "    <tr>\n",
       "      <th>8</th>\n",
       "      <td>6</td>\n",
       "      <td>8</td>\n",
       "      <td>4.394154e+06</td>\n",
       "    </tr>\n",
       "    <tr>\n",
       "      <th>9</th>\n",
       "      <td>3</td>\n",
       "      <td>7</td>\n",
       "      <td>3.775538e+06</td>\n",
       "    </tr>\n",
       "    <tr>\n",
       "      <th>10</th>\n",
       "      <td>6</td>\n",
       "      <td>19</td>\n",
       "      <td>7.302094e+06</td>\n",
       "    </tr>\n",
       "    <tr>\n",
       "      <th>11</th>\n",
       "      <td>4</td>\n",
       "      <td>11</td>\n",
       "      <td>4.653685e+06</td>\n",
       "    </tr>\n",
       "    <tr>\n",
       "      <th>12</th>\n",
       "      <td>15</td>\n",
       "      <td>12</td>\n",
       "      <td>2.834254e+06</td>\n",
       "    </tr>\n",
       "    <tr>\n",
       "      <th>13</th>\n",
       "      <td>3</td>\n",
       "      <td>6</td>\n",
       "      <td>4.338126e+06</td>\n",
       "    </tr>\n",
       "    <tr>\n",
       "      <th>14</th>\n",
       "      <td>10</td>\n",
       "      <td>16</td>\n",
       "      <td>3.472201e+06</td>\n",
       "    </tr>\n",
       "    <tr>\n",
       "      <th>15</th>\n",
       "      <td>11</td>\n",
       "      <td>16</td>\n",
       "      <td>5.570108e+06</td>\n",
       "    </tr>\n",
       "    <tr>\n",
       "      <th>16</th>\n",
       "      <td>13</td>\n",
       "      <td>12</td>\n",
       "      <td>5.249339e+06</td>\n",
       "    </tr>\n",
       "    <tr>\n",
       "      <th>17</th>\n",
       "      <td>6</td>\n",
       "      <td>15</td>\n",
       "      <td>3.013351e+06</td>\n",
       "    </tr>\n",
       "    <tr>\n",
       "      <th>18</th>\n",
       "      <td>15</td>\n",
       "      <td>19</td>\n",
       "      <td>4.393098e+06</td>\n",
       "    </tr>\n",
       "    <tr>\n",
       "      <th>19</th>\n",
       "      <td>11</td>\n",
       "      <td>18</td>\n",
       "      <td>5.220183e+06</td>\n",
       "    </tr>\n",
       "    <tr>\n",
       "      <th>20</th>\n",
       "      <td>10</td>\n",
       "      <td>13</td>\n",
       "      <td>3.719615e+06</td>\n",
       "    </tr>\n",
       "    <tr>\n",
       "      <th>21</th>\n",
       "      <td>9</td>\n",
       "      <td>13</td>\n",
       "      <td>5.504812e+06</td>\n",
       "    </tr>\n",
       "    <tr>\n",
       "      <th>22</th>\n",
       "      <td>10</td>\n",
       "      <td>18</td>\n",
       "      <td>4.383769e+06</td>\n",
       "    </tr>\n",
       "    <tr>\n",
       "      <th>23</th>\n",
       "      <td>12</td>\n",
       "      <td>19</td>\n",
       "      <td>3.075774e+06</td>\n",
       "    </tr>\n",
       "    <tr>\n",
       "      <th>24</th>\n",
       "      <td>5</td>\n",
       "      <td>18</td>\n",
       "      <td>4.686709e+06</td>\n",
       "    </tr>\n",
       "    <tr>\n",
       "      <th>25</th>\n",
       "      <td>16</td>\n",
       "      <td>13</td>\n",
       "      <td>4.258776e+06</td>\n",
       "    </tr>\n",
       "    <tr>\n",
       "      <th>26</th>\n",
       "      <td>17</td>\n",
       "      <td>12</td>\n",
       "      <td>5.138839e+06</td>\n",
       "    </tr>\n",
       "    <tr>\n",
       "      <th>27</th>\n",
       "      <td>14</td>\n",
       "      <td>9</td>\n",
       "      <td>2.964385e+06</td>\n",
       "    </tr>\n",
       "    <tr>\n",
       "      <th>28</th>\n",
       "      <td>10</td>\n",
       "      <td>10</td>\n",
       "      <td>2.974752e+06</td>\n",
       "    </tr>\n",
       "    <tr>\n",
       "      <th>29</th>\n",
       "      <td>4</td>\n",
       "      <td>16</td>\n",
       "      <td>4.727635e+06</td>\n",
       "    </tr>\n",
       "    <tr>\n",
       "      <th>...</th>\n",
       "      <td>...</td>\n",
       "      <td>...</td>\n",
       "      <td>...</td>\n",
       "    </tr>\n",
       "    <tr>\n",
       "      <th>145</th>\n",
       "      <td>16</td>\n",
       "      <td>12</td>\n",
       "      <td>7.485869e+06</td>\n",
       "    </tr>\n",
       "    <tr>\n",
       "      <th>146</th>\n",
       "      <td>18</td>\n",
       "      <td>16</td>\n",
       "      <td>4.092425e+06</td>\n",
       "    </tr>\n",
       "    <tr>\n",
       "      <th>147</th>\n",
       "      <td>3</td>\n",
       "      <td>18</td>\n",
       "      <td>3.807932e+06</td>\n",
       "    </tr>\n",
       "    <tr>\n",
       "      <th>148</th>\n",
       "      <td>8</td>\n",
       "      <td>19</td>\n",
       "      <td>5.909656e+06</td>\n",
       "    </tr>\n",
       "    <tr>\n",
       "      <th>149</th>\n",
       "      <td>18</td>\n",
       "      <td>11</td>\n",
       "      <td>4.196460e+06</td>\n",
       "    </tr>\n",
       "    <tr>\n",
       "      <th>150</th>\n",
       "      <td>15</td>\n",
       "      <td>13</td>\n",
       "      <td>2.501282e+06</td>\n",
       "    </tr>\n",
       "    <tr>\n",
       "      <th>151</th>\n",
       "      <td>14</td>\n",
       "      <td>19</td>\n",
       "      <td>4.572674e+06</td>\n",
       "    </tr>\n",
       "    <tr>\n",
       "      <th>152</th>\n",
       "      <td>7</td>\n",
       "      <td>13</td>\n",
       "      <td>5.506144e+06</td>\n",
       "    </tr>\n",
       "    <tr>\n",
       "      <th>153</th>\n",
       "      <td>4</td>\n",
       "      <td>15</td>\n",
       "      <td>3.406341e+06</td>\n",
       "    </tr>\n",
       "    <tr>\n",
       "      <th>154</th>\n",
       "      <td>4</td>\n",
       "      <td>8</td>\n",
       "      <td>1.990350e+06</td>\n",
       "    </tr>\n",
       "    <tr>\n",
       "      <th>155</th>\n",
       "      <td>6</td>\n",
       "      <td>11</td>\n",
       "      <td>4.113860e+06</td>\n",
       "    </tr>\n",
       "    <tr>\n",
       "      <th>156</th>\n",
       "      <td>6</td>\n",
       "      <td>7</td>\n",
       "      <td>4.185313e+06</td>\n",
       "    </tr>\n",
       "    <tr>\n",
       "      <th>157</th>\n",
       "      <td>17</td>\n",
       "      <td>15</td>\n",
       "      <td>4.409768e+06</td>\n",
       "    </tr>\n",
       "    <tr>\n",
       "      <th>158</th>\n",
       "      <td>19</td>\n",
       "      <td>8</td>\n",
       "      <td>4.702697e+06</td>\n",
       "    </tr>\n",
       "    <tr>\n",
       "      <th>159</th>\n",
       "      <td>4</td>\n",
       "      <td>9</td>\n",
       "      <td>3.779918e+06</td>\n",
       "    </tr>\n",
       "    <tr>\n",
       "      <th>160</th>\n",
       "      <td>7</td>\n",
       "      <td>7</td>\n",
       "      <td>3.542061e+06</td>\n",
       "    </tr>\n",
       "    <tr>\n",
       "      <th>161</th>\n",
       "      <td>7</td>\n",
       "      <td>10</td>\n",
       "      <td>4.201051e+06</td>\n",
       "    </tr>\n",
       "    <tr>\n",
       "      <th>162</th>\n",
       "      <td>9</td>\n",
       "      <td>3</td>\n",
       "      <td>3.938708e+06</td>\n",
       "    </tr>\n",
       "    <tr>\n",
       "      <th>163</th>\n",
       "      <td>8</td>\n",
       "      <td>4</td>\n",
       "      <td>3.117234e+06</td>\n",
       "    </tr>\n",
       "    <tr>\n",
       "      <th>164</th>\n",
       "      <td>5</td>\n",
       "      <td>3</td>\n",
       "      <td>3.720315e+06</td>\n",
       "    </tr>\n",
       "    <tr>\n",
       "      <th>165</th>\n",
       "      <td>16</td>\n",
       "      <td>16</td>\n",
       "      <td>2.110677e+06</td>\n",
       "    </tr>\n",
       "    <tr>\n",
       "      <th>166</th>\n",
       "      <td>6</td>\n",
       "      <td>7</td>\n",
       "      <td>3.629512e+06</td>\n",
       "    </tr>\n",
       "    <tr>\n",
       "      <th>167</th>\n",
       "      <td>6</td>\n",
       "      <td>3</td>\n",
       "      <td>5.533998e+06</td>\n",
       "    </tr>\n",
       "    <tr>\n",
       "      <th>168</th>\n",
       "      <td>16</td>\n",
       "      <td>4</td>\n",
       "      <td>6.967546e+06</td>\n",
       "    </tr>\n",
       "    <tr>\n",
       "      <th>169</th>\n",
       "      <td>15</td>\n",
       "      <td>11</td>\n",
       "      <td>3.226994e+06</td>\n",
       "    </tr>\n",
       "    <tr>\n",
       "      <th>170</th>\n",
       "      <td>7</td>\n",
       "      <td>19</td>\n",
       "      <td>3.086969e+06</td>\n",
       "    </tr>\n",
       "    <tr>\n",
       "      <th>171</th>\n",
       "      <td>12</td>\n",
       "      <td>12</td>\n",
       "      <td>6.572812e+06</td>\n",
       "    </tr>\n",
       "    <tr>\n",
       "      <th>172</th>\n",
       "      <td>19</td>\n",
       "      <td>4</td>\n",
       "      <td>3.741977e+06</td>\n",
       "    </tr>\n",
       "    <tr>\n",
       "      <th>173</th>\n",
       "      <td>6</td>\n",
       "      <td>18</td>\n",
       "      <td>5.196302e+06</td>\n",
       "    </tr>\n",
       "    <tr>\n",
       "      <th>174</th>\n",
       "      <td>17</td>\n",
       "      <td>6</td>\n",
       "      <td>3.056609e+06</td>\n",
       "    </tr>\n",
       "  </tbody>\n",
       "</table>\n",
       "<p>175 rows × 3 columns</p>\n",
       "</div>"
      ],
      "text/plain": [
       "     length  width            X2\n",
       "0         9     17  4.458676e+06\n",
       "1         3     18  1.996861e+06\n",
       "2         5     16  3.803824e+06\n",
       "3         6      7  3.435008e+06\n",
       "4         7     13  4.431305e+06\n",
       "5         9     19  4.033624e+06\n",
       "6         7     16  5.185875e+06\n",
       "7        13     11  3.455775e+06\n",
       "8         6      8  4.394154e+06\n",
       "9         3      7  3.775538e+06\n",
       "10        6     19  7.302094e+06\n",
       "11        4     11  4.653685e+06\n",
       "12       15     12  2.834254e+06\n",
       "13        3      6  4.338126e+06\n",
       "14       10     16  3.472201e+06\n",
       "15       11     16  5.570108e+06\n",
       "16       13     12  5.249339e+06\n",
       "17        6     15  3.013351e+06\n",
       "18       15     19  4.393098e+06\n",
       "19       11     18  5.220183e+06\n",
       "20       10     13  3.719615e+06\n",
       "21        9     13  5.504812e+06\n",
       "22       10     18  4.383769e+06\n",
       "23       12     19  3.075774e+06\n",
       "24        5     18  4.686709e+06\n",
       "25       16     13  4.258776e+06\n",
       "26       17     12  5.138839e+06\n",
       "27       14      9  2.964385e+06\n",
       "28       10     10  2.974752e+06\n",
       "29        4     16  4.727635e+06\n",
       "..      ...    ...           ...\n",
       "145      16     12  7.485869e+06\n",
       "146      18     16  4.092425e+06\n",
       "147       3     18  3.807932e+06\n",
       "148       8     19  5.909656e+06\n",
       "149      18     11  4.196460e+06\n",
       "150      15     13  2.501282e+06\n",
       "151      14     19  4.572674e+06\n",
       "152       7     13  5.506144e+06\n",
       "153       4     15  3.406341e+06\n",
       "154       4      8  1.990350e+06\n",
       "155       6     11  4.113860e+06\n",
       "156       6      7  4.185313e+06\n",
       "157      17     15  4.409768e+06\n",
       "158      19      8  4.702697e+06\n",
       "159       4      9  3.779918e+06\n",
       "160       7      7  3.542061e+06\n",
       "161       7     10  4.201051e+06\n",
       "162       9      3  3.938708e+06\n",
       "163       8      4  3.117234e+06\n",
       "164       5      3  3.720315e+06\n",
       "165      16     16  2.110677e+06\n",
       "166       6      7  3.629512e+06\n",
       "167       6      3  5.533998e+06\n",
       "168      16      4  6.967546e+06\n",
       "169      15     11  3.226994e+06\n",
       "170       7     19  3.086969e+06\n",
       "171      12     12  6.572812e+06\n",
       "172      19      4  3.741977e+06\n",
       "173       6     18  5.196302e+06\n",
       "174      17      6  3.056609e+06\n",
       "\n",
       "[175 rows x 3 columns]"
      ]
     },
     "execution_count": 100,
     "metadata": {},
     "output_type": "execute_result"
    }
   ],
   "source": [
    "# df_apts['X2'].shape\n",
    "length_width = np.random.randint(low=3, high=20, size=(175, 2))\n",
    "length_width.shape\n",
    "df_apts_new = pd.DataFrame(length_width, columns=['length', 'width'])\n",
    "df_apts_new = pd.concat([df_apts_new, df_apts['X2']], axis=1)\n",
    "df_apts_new"
   ]
  },
  {
   "cell_type": "code",
   "execution_count": 101,
   "metadata": {},
   "outputs": [],
   "source": [
    "df_apts_new['area'] = df_apts_new['length'] * df_apts_new['width']\n",
    "df_apts_new = df_apts_new.drop(['length', 'width'], axis=1)"
   ]
  },
  {
   "cell_type": "code",
   "execution_count": 102,
   "metadata": {},
   "outputs": [
    {
     "data": {
      "text/html": [
       "<div>\n",
       "<style scoped>\n",
       "    .dataframe tbody tr th:only-of-type {\n",
       "        vertical-align: middle;\n",
       "    }\n",
       "\n",
       "    .dataframe tbody tr th {\n",
       "        vertical-align: top;\n",
       "    }\n",
       "\n",
       "    .dataframe thead th {\n",
       "        text-align: right;\n",
       "    }\n",
       "</style>\n",
       "<table border=\"1\" class=\"dataframe\">\n",
       "  <thead>\n",
       "    <tr style=\"text-align: right;\">\n",
       "      <th></th>\n",
       "      <th>X2</th>\n",
       "      <th>area</th>\n",
       "    </tr>\n",
       "  </thead>\n",
       "  <tbody>\n",
       "    <tr>\n",
       "      <th>0</th>\n",
       "      <td>4.458676e+06</td>\n",
       "      <td>153</td>\n",
       "    </tr>\n",
       "    <tr>\n",
       "      <th>1</th>\n",
       "      <td>1.996861e+06</td>\n",
       "      <td>54</td>\n",
       "    </tr>\n",
       "    <tr>\n",
       "      <th>2</th>\n",
       "      <td>3.803824e+06</td>\n",
       "      <td>80</td>\n",
       "    </tr>\n",
       "    <tr>\n",
       "      <th>3</th>\n",
       "      <td>3.435008e+06</td>\n",
       "      <td>42</td>\n",
       "    </tr>\n",
       "    <tr>\n",
       "      <th>4</th>\n",
       "      <td>4.431305e+06</td>\n",
       "      <td>91</td>\n",
       "    </tr>\n",
       "  </tbody>\n",
       "</table>\n",
       "</div>"
      ],
      "text/plain": [
       "             X2  area\n",
       "0  4.458676e+06   153\n",
       "1  1.996861e+06    54\n",
       "2  3.803824e+06    80\n",
       "3  3.435008e+06    42\n",
       "4  4.431305e+06    91"
      ]
     },
     "execution_count": 102,
     "metadata": {},
     "output_type": "execute_result"
    }
   ],
   "source": [
    "df_apts_new.head()"
   ]
  },
  {
   "cell_type": "markdown",
   "metadata": {},
   "source": [
    "## Test set"
   ]
  },
  {
   "cell_type": "code",
   "execution_count": null,
   "metadata": {},
   "outputs": [],
   "source": [
    "df = pd.read_csv('train.csv')\n",
    "df.head()"
   ]
  },
  {
   "cell_type": "code",
   "execution_count": null,
   "metadata": {},
   "outputs": [],
   "source": [
    "df.shape"
   ]
  },
  {
   "cell_type": "code",
   "execution_count": null,
   "metadata": {},
   "outputs": [],
   "source": [
    "X_train = df.drop('medv', axis=1).values[:300]\n",
    "Y_train = df['medv'].values[:300]\n",
    "\n",
    "X_test = df.drop('medv', axis=1).values[300:]\n",
    "Y_test = df['medv'].values[300:]\n",
    "Y_test.shape"
   ]
  },
  {
   "cell_type": "code",
   "execution_count": null,
   "metadata": {},
   "outputs": [],
   "source": [
    "from sklearn.linear_model import LinearRegression\n",
    "mdl = LinearRegression()\n",
    "\n",
    "mdl.fit(X_train, Y_train)"
   ]
  },
  {
   "cell_type": "code",
   "execution_count": null,
   "metadata": {},
   "outputs": [],
   "source": [
    "Y_pred = mdl.predict(X_test)\n",
    "Y_pred"
   ]
  },
  {
   "cell_type": "code",
   "execution_count": null,
   "metadata": {},
   "outputs": [],
   "source": [
    "from sklearn.metrics import explained_variance_score\n",
    "explained_variance_score(Y_pred, Y_test)"
   ]
  },
  {
   "cell_type": "code",
   "execution_count": null,
   "metadata": {},
   "outputs": [],
   "source": [
    "Y_pred_test = mdl.predict(X_train)\n",
    "explained_variance_score(Y_pred_test, Y_train)"
   ]
  }
 ],
 "metadata": {
  "kernelspec": {
   "display_name": "Python 3",
   "language": "python",
   "name": "python3"
  },
  "language_info": {
   "codemirror_mode": {
    "name": "ipython",
    "version": 3
   },
   "file_extension": ".py",
   "mimetype": "text/x-python",
   "name": "python",
   "nbconvert_exporter": "python",
   "pygments_lexer": "ipython3",
   "version": "3.6.5"
  }
 },
 "nbformat": 4,
 "nbformat_minor": 2
}
