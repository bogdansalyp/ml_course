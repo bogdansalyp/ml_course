{
 "cells": [
  {
   "cell_type": "markdown",
   "metadata": {},
   "source": [
    "# Домашнее задание №3"
   ]
  },
  {
   "cell_type": "code",
   "execution_count": 30,
   "metadata": {},
   "outputs": [],
   "source": [
    "import pandas as pd\n",
    "import numpy as np\n",
    "import matplotlib.pyplot as plt"
   ]
  },
  {
   "cell_type": "markdown",
   "metadata": {},
   "source": [
    "## Import data"
   ]
  },
  {
   "cell_type": "code",
   "execution_count": 32,
   "metadata": {},
   "outputs": [
    {
     "data": {
      "text/html": [
       "<div>\n",
       "<style scoped>\n",
       "    .dataframe tbody tr th:only-of-type {\n",
       "        vertical-align: middle;\n",
       "    }\n",
       "\n",
       "    .dataframe tbody tr th {\n",
       "        vertical-align: top;\n",
       "    }\n",
       "\n",
       "    .dataframe thead th {\n",
       "        text-align: right;\n",
       "    }\n",
       "</style>\n",
       "<table border=\"1\" class=\"dataframe\">\n",
       "  <thead>\n",
       "    <tr style=\"text-align: right;\">\n",
       "      <th></th>\n",
       "      <th>Unnamed: 0</th>\n",
       "      <th>X</th>\n",
       "      <th>Y</th>\n",
       "    </tr>\n",
       "  </thead>\n",
       "  <tbody>\n",
       "    <tr>\n",
       "      <th>0</th>\n",
       "      <td>0</td>\n",
       "      <td>52.283138</td>\n",
       "      <td>-39403.717469</td>\n",
       "    </tr>\n",
       "    <tr>\n",
       "      <th>1</th>\n",
       "      <td>1</td>\n",
       "      <td>47.721231</td>\n",
       "      <td>-38805.816488</td>\n",
       "    </tr>\n",
       "    <tr>\n",
       "      <th>2</th>\n",
       "      <td>2</td>\n",
       "      <td>50.798843</td>\n",
       "      <td>-34070.976995</td>\n",
       "    </tr>\n",
       "    <tr>\n",
       "      <th>3</th>\n",
       "      <td>3</td>\n",
       "      <td>52.392715</td>\n",
       "      <td>-34105.400403</td>\n",
       "    </tr>\n",
       "    <tr>\n",
       "      <th>4</th>\n",
       "      <td>4</td>\n",
       "      <td>55.959325</td>\n",
       "      <td>-32684.917373</td>\n",
       "    </tr>\n",
       "  </tbody>\n",
       "</table>\n",
       "</div>"
      ],
      "text/plain": [
       "   Unnamed: 0          X             Y\n",
       "0           0  52.283138 -39403.717469\n",
       "1           1  47.721231 -38805.816488\n",
       "2           2  50.798843 -34070.976995\n",
       "3           3  52.392715 -34105.400403\n",
       "4           4  55.959325 -32684.917373"
      ]
     },
     "execution_count": 32,
     "metadata": {},
     "output_type": "execute_result"
    }
   ],
   "source": [
    "df = pd.read_csv('hw2.csv')\n",
    "df.head()"
   ]
  },
  {
   "cell_type": "code",
   "execution_count": 34,
   "metadata": {},
   "outputs": [
    {
     "data": {
      "image/png": "[encoded data removed]",
      "text/plain": [
       "<Figure size 432x288 with 1 Axes>"
      ]
     },
     "metadata": {},
     "output_type": "display_data"
    }
   ],
   "source": [
    "plt.plot(df['X'], df['Y'], 'o')\n",
    "plt.show()"
   ]
  },
  {
   "cell_type": "code",
   "execution_count": 35,
   "metadata": {},
   "outputs": [],
   "source": [
    "from sklearn.linear_model import LinearRegression"
   ]
  },
  {
   "cell_type": "code",
   "execution_count": 37,
   "metadata": {},
   "outputs": [
    {
     "data": {
      "text/plain": [
       "LinearRegression(copy_X=True, fit_intercept=True, n_jobs=1, normalize=False)"
      ]
     },
     "execution_count": 37,
     "metadata": {},
     "output_type": "execute_result"
    }
   ],
   "source": [
    "model = LinearRegression()\n",
    "model"
   ]
  },
  {
   "cell_type": "code",
   "execution_count": 42,
   "metadata": {},
   "outputs": [
    {
     "data": {
      "text/plain": [
       "LinearRegression(copy_X=True, fit_intercept=True, n_jobs=1, normalize=False)"
      ]
     },
     "execution_count": 42,
     "metadata": {},
     "output_type": "execute_result"
    }
   ],
   "source": [
    "model.fit(df['X'].values.reshape(-1, 1), df['Y'].values.reshape(-1, 1))"
   ]
  },
  {
   "cell_type": "code",
   "execution_count": 43,
   "metadata": {},
   "outputs": [],
   "source": [
    "y_pred = model.predict(df['X'].values.reshape(-1, 1))"
   ]
  },
  {
   "cell_type": "code",
   "execution_count": 44,
   "metadata": {},
   "outputs": [
    {
     "data": {
      "text/plain": [
       "[<matplotlib.lines.Line2D at 0x114298080>]"
      ]
     },
     "execution_count": 44,
     "metadata": {},
     "output_type": "execute_result"
    },
    {
     "data": {
      "image/png": "[encoded data removed]",
      "text/plain": [
       "<Figure size 432x288 with 1 Axes>"
      ]
     },
     "metadata": {},
     "output_type": "display_data"
    }
   ],
   "source": [
    "plt.plot(df['X'], df['Y'], 'o')\n",
    "plt.plot(df['X'], y_pred)"
   ]
  },
  {
   "cell_type": "markdown",
   "metadata": {},
   "source": [
    "## Boston"
   ]
  },
  {
   "cell_type": "code",
   "execution_count": 18,
   "metadata": {},
   "outputs": [
    {
     "data": {
      "text/html": [
       "<div>\n",
       "<style scoped>\n",
       "    .dataframe tbody tr th:only-of-type {\n",
       "        vertical-align: middle;\n",
       "    }\n",
       "\n",
       "    .dataframe tbody tr th {\n",
       "        vertical-align: top;\n",
       "    }\n",
       "\n",
       "    .dataframe thead th {\n",
       "        text-align: right;\n",
       "    }\n",
       "</style>\n",
       "<table border=\"1\" class=\"dataframe\">\n",
       "  <thead>\n",
       "    <tr style=\"text-align: right;\">\n",
       "      <th></th>\n",
       "      <th>ID</th>\n",
       "      <th>crim</th>\n",
       "      <th>zn</th>\n",
       "      <th>indus</th>\n",
       "      <th>chas</th>\n",
       "      <th>nox</th>\n",
       "      <th>rm</th>\n",
       "      <th>age</th>\n",
       "      <th>dis</th>\n",
       "      <th>rad</th>\n",
       "      <th>tax</th>\n",
       "      <th>ptratio</th>\n",
       "      <th>black</th>\n",
       "      <th>lstat</th>\n",
       "      <th>medv</th>\n",
       "    </tr>\n",
       "  </thead>\n",
       "  <tbody>\n",
       "    <tr>\n",
       "      <th>0</th>\n",
       "      <td>1</td>\n",
       "      <td>0.00632</td>\n",
       "      <td>18.0</td>\n",
       "      <td>2.31</td>\n",
       "      <td>0</td>\n",
       "      <td>0.538</td>\n",
       "      <td>6.575</td>\n",
       "      <td>65.2</td>\n",
       "      <td>4.0900</td>\n",
       "      <td>1</td>\n",
       "      <td>296</td>\n",
       "      <td>15.3</td>\n",
       "      <td>396.90</td>\n",
       "      <td>4.98</td>\n",
       "      <td>24.0</td>\n",
       "    </tr>\n",
       "    <tr>\n",
       "      <th>1</th>\n",
       "      <td>2</td>\n",
       "      <td>0.02731</td>\n",
       "      <td>0.0</td>\n",
       "      <td>7.07</td>\n",
       "      <td>0</td>\n",
       "      <td>0.469</td>\n",
       "      <td>6.421</td>\n",
       "      <td>78.9</td>\n",
       "      <td>4.9671</td>\n",
       "      <td>2</td>\n",
       "      <td>242</td>\n",
       "      <td>17.8</td>\n",
       "      <td>396.90</td>\n",
       "      <td>9.14</td>\n",
       "      <td>21.6</td>\n",
       "    </tr>\n",
       "    <tr>\n",
       "      <th>2</th>\n",
       "      <td>4</td>\n",
       "      <td>0.03237</td>\n",
       "      <td>0.0</td>\n",
       "      <td>2.18</td>\n",
       "      <td>0</td>\n",
       "      <td>0.458</td>\n",
       "      <td>6.998</td>\n",
       "      <td>45.8</td>\n",
       "      <td>6.0622</td>\n",
       "      <td>3</td>\n",
       "      <td>222</td>\n",
       "      <td>18.7</td>\n",
       "      <td>394.63</td>\n",
       "      <td>2.94</td>\n",
       "      <td>33.4</td>\n",
       "    </tr>\n",
       "    <tr>\n",
       "      <th>3</th>\n",
       "      <td>5</td>\n",
       "      <td>0.06905</td>\n",
       "      <td>0.0</td>\n",
       "      <td>2.18</td>\n",
       "      <td>0</td>\n",
       "      <td>0.458</td>\n",
       "      <td>7.147</td>\n",
       "      <td>54.2</td>\n",
       "      <td>6.0622</td>\n",
       "      <td>3</td>\n",
       "      <td>222</td>\n",
       "      <td>18.7</td>\n",
       "      <td>396.90</td>\n",
       "      <td>5.33</td>\n",
       "      <td>36.2</td>\n",
       "    </tr>\n",
       "    <tr>\n",
       "      <th>4</th>\n",
       "      <td>7</td>\n",
       "      <td>0.08829</td>\n",
       "      <td>12.5</td>\n",
       "      <td>7.87</td>\n",
       "      <td>0</td>\n",
       "      <td>0.524</td>\n",
       "      <td>6.012</td>\n",
       "      <td>66.6</td>\n",
       "      <td>5.5605</td>\n",
       "      <td>5</td>\n",
       "      <td>311</td>\n",
       "      <td>15.2</td>\n",
       "      <td>395.60</td>\n",
       "      <td>12.43</td>\n",
       "      <td>22.9</td>\n",
       "    </tr>\n",
       "  </tbody>\n",
       "</table>\n",
       "</div>"
      ],
      "text/plain": [
       "   ID     crim    zn  indus  chas    nox     rm   age     dis  rad  tax  \\\n",
       "0   1  0.00632  18.0   2.31     0  0.538  6.575  65.2  4.0900    1  296   \n",
       "1   2  0.02731   0.0   7.07     0  0.469  6.421  78.9  4.9671    2  242   \n",
       "2   4  0.03237   0.0   2.18     0  0.458  6.998  45.8  6.0622    3  222   \n",
       "3   5  0.06905   0.0   2.18     0  0.458  7.147  54.2  6.0622    3  222   \n",
       "4   7  0.08829  12.5   7.87     0  0.524  6.012  66.6  5.5605    5  311   \n",
       "\n",
       "   ptratio   black  lstat  medv  \n",
       "0     15.3  396.90   4.98  24.0  \n",
       "1     17.8  396.90   9.14  21.6  \n",
       "2     18.7  394.63   2.94  33.4  \n",
       "3     18.7  396.90   5.33  36.2  \n",
       "4     15.2  395.60  12.43  22.9  "
      ]
     },
     "execution_count": 18,
     "metadata": {},
     "output_type": "execute_result"
    }
   ],
   "source": [
    "df = pd.read_csv('train.csv')\n",
    "df.head()"
   ]
  },
  {
   "cell_type": "code",
   "execution_count": 22,
   "metadata": {},
   "outputs": [],
   "source": [
    "X = df.drop('medv', axis=1).values\n",
    "Y = df['medv'].values"
   ]
  },
  {
   "cell_type": "code",
   "execution_count": 46,
   "metadata": {},
   "outputs": [
    {
     "data": {
      "text/plain": [
       "LinearRegression(copy_X=True, fit_intercept=True, n_jobs=1, normalize=False)"
      ]
     },
     "execution_count": 46,
     "metadata": {},
     "output_type": "execute_result"
    }
   ],
   "source": [
    "model = LinearRegression()\n",
    "model.fit(X, Y)"
   ]
  },
  {
   "cell_type": "code",
   "execution_count": 47,
   "metadata": {},
   "outputs": [],
   "source": [
    "Y_pred = model.predict(X)"
   ]
  },
  {
   "cell_type": "code",
   "execution_count": 48,
   "metadata": {},
   "outputs": [
    {
     "data": {
      "text/plain": [
       "array([30.47720693, 25.12405867, 29.35189585, 28.43212691, 22.99129066,\n",
       "       17.99393411, 21.24162808, 20.89023014, 20.57083939, 19.90987078,\n",
       "       20.3596736 , 22.01679176, 16.98090524, 12.22939746, 18.03542225,\n",
       "       15.83974467, 13.57670016, 14.51681159, 10.9391477 , 18.30298141,\n",
       "       13.14483981, 23.75594012, 32.29325614, 35.41779067, 25.97138043,\n",
       "       25.28058766, 23.07835796, 22.31643685, 20.34793636, 16.99849796,\n",
       "       16.52844608, 20.84609722, 23.66949682, 24.2385127 , 15.33079343,\n",
       "       31.57430591, 24.76835734, 33.19299182, 22.44244787, 17.72710171,\n",
       "       18.00944143, 22.88244414, 22.81414207, 30.87510616, 25.44020721,\n",
       "       21.518716  , 17.26703455, 26.13954408, 25.56096358, 24.88548091,\n",
       "       26.78226636, 24.61469307, 23.08727057, 23.93699306, 29.03932178,\n",
       "       27.08806549, 25.3176405 , 24.80806788, 28.01414619, 21.97988454,\n",
       "       26.01454983, 30.77376478, 31.15053682, 27.14881071, 30.1567057 ,\n",
       "       27.29088022, 24.3379091 , 25.27895584, 26.50481276, 19.48696265,\n",
       "       20.58042405, 17.03909988, 21.02686014, 22.94236028, 19.83484688,\n",
       "       26.99584391, 25.5864448 , 23.72416515, 24.0551334 , 20.28146092,\n",
       "       21.04009881, 22.42130449, 22.81993783, 20.54329677, 15.72382055,\n",
       "       20.54351823, 13.8245218 , 15.74935834, 19.67896065, 20.37189718,\n",
       "       16.39049546, 13.40168545, 16.41812667, 20.11778613, 14.0206368 ,\n",
       "       16.9230312 ,  3.21519949, 15.4881396 , 11.15478474,  8.00912461,\n",
       "        9.23836743, 14.8766558 , 21.46599835, 17.47046027, 23.83990828,\n",
       "       13.33686869, 29.47009475, 26.61666317, 34.34469374, 37.78782581,\n",
       "       43.86652703, 24.93997179, 25.32897702, 38.02535197, 22.86026944,\n",
       "       26.67500234, 22.11358493, 24.21331318, 22.10869247, 28.72564671,\n",
       "       26.23000227, 31.10644247, 25.39947843, 28.99894152, 31.31291634,\n",
       "       32.95974919, 34.37166408, 27.38759545, 33.60711065, 30.55394402,\n",
       "       35.98526781, 33.38769372, 34.52677237, 30.65690321, 30.13238924,\n",
       "       32.97728233, 31.82747373, 31.17143463, 31.41536222, 30.57707404,\n",
       "       28.54146182, 41.93978234, 43.18370115, 22.79287821, 23.44250745,\n",
       "       23.94303419, 16.55357431, 25.30360237,  9.76637752, 27.37089572,\n",
       "       23.54387894, 32.95318819, 29.60672193, 38.6278329 , 40.01700102,\n",
       "       37.78077136, 32.30965789, 31.89253584, 23.976312  , 38.35575956,\n",
       "       37.36799823, 32.58411295, 24.86393793, 30.75085486, 26.29790542,\n",
       "       22.96632345, 27.17759316, 15.01595765, 19.45234939, 20.54479886,\n",
       "       23.95259405, 24.21423012, 25.21672228, 30.11179082, 34.16912833,\n",
       "       36.62749382, 40.56555933, 33.56269483, 35.19919378, 27.62140278,\n",
       "       30.102658  , 39.17688539, 27.13951685, 28.00150311, 36.23182376,\n",
       "       37.24149603, 34.81702816, 33.64035143, 40.74528201, 44.95641989,\n",
       "       30.52406165, 25.95382561, 18.25558935, 26.24228976, 33.4863518 ,\n",
       "       31.79939734, 25.27558159, 26.52423016, 17.89008307, 28.14016884,\n",
       "       28.32861446, 32.59354539, 32.92376889, 30.1909117 , 35.12987363,\n",
       "       28.41127996, 22.96650644, 18.12269492, 26.89438899, 22.40313301,\n",
       "       19.62879815, 16.11478227, 17.17033554, 23.66690728, 24.47777173,\n",
       "       24.88409304, 24.66399885, 18.42469638, 20.1863564 , 20.49575968,\n",
       "       21.64485443, 20.96626745, 19.39471546, 21.64761286, 20.5466107 ,\n",
       "       20.62202238, 28.84352013, 20.49422264, 26.89197895, 28.1110974 ,\n",
       "       24.34205421, 26.41864506, 20.94518309, 15.4850994 , 22.08262451,\n",
       "       25.26760195, 25.00283679, 20.79929211, 24.55602772, 19.78954225,\n",
       "       15.9487679 , 16.57043704, 11.64658634, 25.62957136, 37.86189951,\n",
       "       26.60238836, 28.87120775,  6.01127239,  0.7792355 , 18.82301425,\n",
       "       21.19652373, 14.09135553, 13.58461307,  3.74663491,  7.22271372,\n",
       "        6.44588859, 14.97530174, 18.16648276, 10.45526019, 19.38067487,\n",
       "       20.1071044 ,  8.23527287, 13.12551623, 18.9663323 , 14.71770988,\n",
       "       21.35224949, 13.52557993, 12.94728466, -3.62729972,  9.20690067,\n",
       "        7.45244524,  9.47250063, 14.76323699, 14.52751753,  9.68506312,\n",
       "       16.04201703, 14.17116265, 12.60262088, 18.4842823 , 21.89726373,\n",
       "       17.18723367, 16.58720153,  8.44737877, 13.66965547, 14.08569898,\n",
       "       18.12825624, 19.55727089, 18.93791171, 11.79332519, 11.65363016,\n",
       "       19.16595212, 18.31276779, 19.92413362, 19.22005676, 23.30624136,\n",
       "       15.56098188, 12.74950222, 17.76642992, 19.45902617, 19.38264257,\n",
       "       20.92326875, 20.78192633, 23.59758554, 21.44992519, 18.64923049,\n",
       "       13.79699153, 16.65525442, 17.83495962, 19.7682257 , 23.32108717,\n",
       "       22.96255649, 16.53677198, 20.74061437, 11.62193642, 19.67616182,\n",
       "       23.06887466, 24.26493643, 28.04834322, 21.84073969, 20.05989929,\n",
       "       20.02122273, 22.20605793, 11.00388031,  1.63383275, 12.8456809 ,\n",
       "       15.51987638, 19.66452244, 17.74347172, 17.01391363, 22.44655352,\n",
       "       21.25579756, 26.69779445, 21.22724717])"
      ]
     },
     "execution_count": 48,
     "metadata": {},
     "output_type": "execute_result"
    }
   ],
   "source": [
    "Y_pred"
   ]
  },
  {
   "cell_type": "code",
   "execution_count": 49,
   "metadata": {},
   "outputs": [],
   "source": [
    "from sklearn.metrics import explained_variance_score"
   ]
  },
  {
   "cell_type": "code",
   "execution_count": 50,
   "metadata": {},
   "outputs": [
    {
     "data": {
      "text/plain": [
       "0.7355786478533117"
      ]
     },
     "execution_count": 50,
     "metadata": {},
     "output_type": "execute_result"
    }
   ],
   "source": [
    "explained_variance_score(Y, Y_pred)"
   ]
  },
  {
   "cell_type": "code",
   "execution_count": null,
   "metadata": {},
   "outputs": [],
   "source": []
  },
  {
   "cell_type": "code",
   "execution_count": null,
   "metadata": {},
   "outputs": [],
   "source": []
  },
  {
   "cell_type": "code",
   "execution_count": null,
   "metadata": {},
   "outputs": [],
   "source": [
    "np.random.seed(42)\n",
    "p = np.random.permutation(iris['data'].shape[0])\n",
    "iris['data'] = iris['data'][p]\n",
    "iris['target'] = iris['target'][p]\n",
    "iris['data']\n",
    "clf.fit(iris['data'], iris['target'])"
   ]
  },
  {
   "cell_type": "code",
   "execution_count": null,
   "metadata": {},
   "outputs": [],
   "source": []
  }
 ],
 "metadata": {
  "kernelspec": {
   "display_name": "Python 3",
   "language": "python",
   "name": "python3"
  },
  "language_info": {
   "codemirror_mode": {
    "name": "ipython",
    "version": 3
   },
   "file_extension": ".py",
   "mimetype": "text/x-python",
   "name": "python",
   "nbconvert_exporter": "python",
   "pygments_lexer": "ipython3",
   "version": "3.6.5"
  }
 },
 "nbformat": 4,
 "nbformat_minor": 2
}
